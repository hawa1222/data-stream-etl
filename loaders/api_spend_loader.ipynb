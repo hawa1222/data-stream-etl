{
 "cells": [
  {
   "cell_type": "code",
   "execution_count": 55,
   "metadata": {},
   "outputs": [],
   "source": [
    "from utility.file_manager import FileManager\n",
    "from constants import FileDirectory, Spend\n",
    "import requests"
   ]
  },
  {
   "cell_type": "code",
   "execution_count": 56,
   "metadata": {},
   "outputs": [
    {
     "name": "stderr",
     "output_type": "stream",
     "text": [
      "[2024-08-04 00:00:25 +0100] [INFO] [file_manager.py] Successfully loaded file from /Users/hadid/GitHub/ETL/data/clean_data/spend.xlsx\n"
     ]
    }
   ],
   "source": [
    "file_manager = FileManager()\n",
    "\n",
    "spend_df = file_manager.load_file(FileDirectory.CLEAN_DATA_PATH, Spend.DATA_KEY)"
   ]
  },
  {
   "cell_type": "code",
   "execution_count": 57,
   "metadata": {},
   "outputs": [
    {
     "name": "stdout",
     "output_type": "stream",
     "text": [
      "<class 'pandas.core.frame.DataFrame'>\n",
      "RangeIndex: 3386 entries, 0 to 3385\n",
      "Data columns (total 8 columns):\n",
      " #   Column          Non-Null Count  Dtype  \n",
      "---  ------          --------------  -----  \n",
      " 0   transaction_id  3386 non-null   int64  \n",
      " 1   category_a      3386 non-null   object \n",
      " 2   category_b      3386 non-null   object \n",
      " 3   outlet          3386 non-null   object \n",
      " 4   description     1692 non-null   object \n",
      " 5   amount          3386 non-null   float64\n",
      " 6   date            3386 non-null   object \n",
      " 7   period          2038 non-null   object \n",
      "dtypes: float64(1), int64(1), object(6)\n",
      "memory usage: 211.8+ KB\n"
     ]
    }
   ],
   "source": [
    "spend_df.info()"
   ]
  },
  {
   "cell_type": "code",
   "execution_count": 58,
   "metadata": {},
   "outputs": [
    {
     "name": "stdout",
     "output_type": "stream",
     "text": [
      "<class 'pandas.core.frame.DataFrame'>\n",
      "RangeIndex: 1207 entries, 0 to 1206\n",
      "Data columns (total 8 columns):\n",
      " #   Column          Non-Null Count  Dtype  \n",
      "---  ------          --------------  -----  \n",
      " 0   transaction_id  1207 non-null   int64  \n",
      " 1   category_a      1207 non-null   object \n",
      " 2   category_b      1207 non-null   object \n",
      " 3   outlet          1207 non-null   object \n",
      " 4   description     1207 non-null   object \n",
      " 5   amount          1207 non-null   float64\n",
      " 6   date            1207 non-null   object \n",
      " 7   period          1207 non-null   object \n",
      "dtypes: float64(1), int64(1), object(6)\n",
      "memory usage: 75.6+ KB\n"
     ]
    }
   ],
   "source": [
    "# remove all na rows in spend_df\n",
    "# spend_df = spend_df.dropna()\n",
    "spend_df = spend_df.dropna().reset_index(drop=True)\n",
    "spend_df.info()\n",
    "assert spend_df['transaction_id'].notnull().all(), \"Found null transaction_id\"\n"
   ]
  },
  {
   "cell_type": "code",
   "execution_count": 59,
   "metadata": {},
   "outputs": [
    {
     "name": "stdout",
     "output_type": "stream",
     "text": [
      "1349\n"
     ]
    }
   ],
   "source": [
    "print(spend_df['transaction_id'].min())  # Should be > 0"
   ]
  },
  {
   "cell_type": "code",
   "execution_count": 60,
   "metadata": {},
   "outputs": [],
   "source": [
    "spend_json = spend_df.to_dict('records')"
   ]
  },
  {
   "cell_type": "code",
   "execution_count": 61,
   "metadata": {},
   "outputs": [
    {
     "name": "stdout",
     "output_type": "stream",
     "text": [
      "{'transaction_id': 3384, 'category_a': 'Personal Care', 'category_b': 'Mental Health', 'outlet': 'Bromley Counselling', 'description': 'pkey', 'amount': -60.0, 'date': '2024-07-16', 'period': '2024-07'}\n",
      "{'id': 2, 'name': 'Jane Smith', 'age': 30}\n"
     ]
    }
   ],
   "source": [
    "data_insert = [{\"id\": 1, \"name\": None, \"age\": 25}, {\"id\": 2, \"name\": \"Jane Smith\", \"age\": 30}]\n",
    "\n",
    "print(spend_json[0])\n",
    "print(data_insert[1])"
   ]
  },
  {
   "cell_type": "code",
   "execution_count": 62,
   "metadata": {},
   "outputs": [
    {
     "name": "stdout",
     "output_type": "stream",
     "text": [
      "\n",
      "Access token for user hw_master received\n",
      "\n"
     ]
    }
   ],
   "source": [
    "BASE_URL = \"http://localhost:8000\"\n",
    "\n",
    "API_USER = \"hw_master\"\n",
    "API_PASSWORD = \"NQXMq$zFrtmwJBYcvwbhn%X5&Eaz2Nt\"\n",
    "\n",
    "token_response = requests.post(\n",
    "    f\"{BASE_URL}/get-token\",\n",
    "    data={\"username\": API_USER, \"password\": API_PASSWORD},\n",
    ")\n",
    "\n",
    "access_token = token_response.json()[\"access_token\"]\n",
    "headers = {\"Authorization\": f\"Bearer {access_token}\"}\n",
    "print(f\"\\nAccess token for user {API_USER} received\\n\")\n"
   ]
  },
  {
   "cell_type": "code",
   "execution_count": 63,
   "metadata": {},
   "outputs": [
    {
     "name": "stdout",
     "output_type": "stream",
     "text": [
      "{'detail': \"Error occurred inserting data into table 'spend'\"}\n"
     ]
    }
   ],
   "source": [
    "load_response = requests.post(\n",
    "    f\"{BASE_URL}/insert-data\",\n",
    "    headers=headers,\n",
    "    json={\n",
    "        \"db_name\": \"data_stream_db\",\n",
    "          'table_name': \"spend\",\n",
    "          'data': spend_json\n",
    "    }\n",
    ")\n",
    "\n",
    "print(load_response.json())"
   ]
  },
  {
   "cell_type": "code",
   "execution_count": null,
   "metadata": {},
   "outputs": [],
   "source": [
    "# table_schema = {\"id\": \"INT PRIMARY KEY\", \"name\": \"VARCHAR(50)\", \"age\": \"INT\"}\n",
    "\n",
    "# response = requests.post(\n",
    "#     f\"{BASE_URL}/create-table\",\n",
    "#     json={\n",
    "#         \"db_name\": Settings.TEST_DB_NAME,\n",
    "#         \"table_name\": Settings.TEST_TABLE_NAME,\n",
    "#         \"table_schema\": table_schema,\n",
    "#     },\n",
    "#     headers=headers,\n",
    "# )\n",
    "# response_json = response.json()\n",
    "# print(f\"Response create-table: {response_json}\\n\")\n",
    "\n",
    "# # ------------------------------\n",
    "# # Insert Data\n",
    "# # ------------------------------\n",
    "\n",
    "# data_insert = [{\"id\": 1, \"name\": \"None\", \"age\": 25}, {\"id\": 2, \"name\": \"Jane Smith\", \"age\": 30}]\n",
    "\n",
    "# response = requests.post(\n",
    "#     f\"{BASE_URL}/insert-data\",\n",
    "#     json={\n",
    "#         \"db_name\": Settings.TEST_DB_NAME,\n",
    "#         \"table_name\": Settings.TEST_TABLE_NAME,\n",
    "#         \"data\": data_insert,\n",
    "#     },\n",
    "#     headers=headers,\n",
    "# )\n",
    "# response_json = response.json()\n",
    "# print(f\"Response insert-data: {response_json}\\n\")\n"
   ]
  }
 ],
 "metadata": {
  "kernelspec": {
   "display_name": ".venv",
   "language": "python",
   "name": "python3"
  },
  "language_info": {
   "codemirror_mode": {
    "name": "ipython",
    "version": 3
   },
   "file_extension": ".py",
   "mimetype": "text/x-python",
   "name": "python",
   "nbconvert_exporter": "python",
   "pygments_lexer": "ipython3",
   "version": "3.12.3"
  }
 },
 "nbformat": 4,
 "nbformat_minor": 2
}
