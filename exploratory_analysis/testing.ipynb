{
 "cells": [
  {
   "cell_type": "code",
   "execution_count": null,
   "metadata": {},
   "outputs": [],
   "source": [
    "import requests\n",
    "import requests_mock"
   ]
  },
  {
   "cell_type": "code",
   "execution_count": null,
   "metadata": {},
   "outputs": [],
   "source": [
    "# Basic usage\n",
    "requests_mock.get(url, ...)\n",
    "requests_mock.post(url, ...)\n",
    "requests_mock.put(url, ...)\n",
    "requests_mock.delete(url, ...)\n",
    "\n",
    "# Common parameters\n",
    "url: str  # The URL to mock\n",
    "json: dict  # JSON response to return\n",
    "text: str  # Text response to return\n",
    "content: bytes  # Raw content to return\n",
    "status_code: int  # HTTP status code to return\n",
    "headers: dict  # Headers to include in the response\n",
    "exc: Exception  # Exception to raise instead of returning a response\n",
    "\n",
    "# Multiple responses\n",
    "requests_mock.get(\n",
    "    url,\n",
    "    [\n",
    "        {\"json\": {...}, \"status_code\": 200},\n",
    "        {\"status_code\": 429},\n",
    "        {\"json\": {...}, \"status_code\": 200},\n",
    "    ],\n",
    ")\n",
    "\n",
    "# Assertions\n",
    "requests_mock.call_count  # Number of times the mock was called\n",
    "requests_mock.request_history  # List of all requests made\n",
    "requests_mock.last_request  # The most recent request"
   ]
  },
  {
   "cell_type": "code",
   "execution_count": null,
   "metadata": {},
   "outputs": [],
   "source": [
    "# Example usage\n",
    "def test_function(requests_mock):\n",
    "    requests_mock.get(\"https://api.example.com\", json={\"key\": \"value\"})\n",
    "    result = function_that_makes_request()\n",
    "    assert result == expected_result\n",
    "    assert requests_mock.call_count == 1"
   ]
  }
 ],
 "metadata": {
  "kernelspec": {
   "display_name": "etlenv",
   "language": "python",
   "name": "python3"
  },
  "language_info": {
   "codemirror_mode": {
    "name": "ipython",
    "version": 3
   },
   "file_extension": ".py",
   "mimetype": "text/x-python",
   "name": "python",
   "nbconvert_exporter": "python",
   "pygments_lexer": "ipython3",
   "version": "3.11.5"
  }
 },
 "nbformat": 4,
 "nbformat_minor": 2
}
