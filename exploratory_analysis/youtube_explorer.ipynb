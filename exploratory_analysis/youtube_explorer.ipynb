{
 "cells": [
  {
   "cell_type": "code",
   "execution_count": 10,
   "metadata": {},
   "outputs": [],
   "source": [
    "from constants import FileDirectory\n",
    "from utility.file_manager import FileManager\n",
    "from utility.log_manager import setup_logging\n",
    "from utility import data_standardiser\n",
    "\n",
    "logger = setup_logging()\n",
    "\n",
    "file_manager = FileManager()"
   ]
  },
  {
   "cell_type": "code",
   "execution_count": 11,
   "metadata": {},
   "outputs": [
    {
     "name": "stderr",
     "output_type": "stream",
     "text": [
      "[2024-07-03 15:23:37] [INFO]  Successfully loaded file from /Users/hadid/GitHub/ETL/data/raw_data/youtube_likes_data.xlsx\n"
     ]
    }
   ],
   "source": [
    "youtube_likes = file_manager.load_file(\n",
    "    FileDirectory.RAW_DATA_PATH, \"youtube_likes_data.xlsx\"\n",
    ")"
   ]
  },
  {
   "cell_type": "code",
   "execution_count": 12,
   "metadata": {},
   "outputs": [
    {
     "name": "stdout",
     "output_type": "stream",
     "text": [
      "<class 'pandas.core.frame.DataFrame'>\n",
      "RangeIndex: 4993 entries, 0 to 4992\n",
      "Data columns (total 29 columns):\n",
      " #   Column                              Non-Null Count  Dtype  \n",
      "---  ------                              --------------  -----  \n",
      " 0   kind                                4993 non-null   object \n",
      " 1   etag                                4993 non-null   object \n",
      " 2   id                                  4993 non-null   object \n",
      " 3   snippet.publishedAt                 4993 non-null   object \n",
      " 4   snippet.channelId                   4993 non-null   object \n",
      " 5   snippet.title                       4993 non-null   object \n",
      " 6   snippet.description                 4957 non-null   object \n",
      " 7   snippet.thumbnails.default.url      4748 non-null   object \n",
      " 8   snippet.thumbnails.default.width    4748 non-null   float64\n",
      " 9   snippet.thumbnails.default.height   4748 non-null   float64\n",
      " 10  snippet.thumbnails.medium.url       4748 non-null   object \n",
      " 11  snippet.thumbnails.medium.width     4748 non-null   float64\n",
      " 12  snippet.thumbnails.medium.height    4748 non-null   float64\n",
      " 13  snippet.thumbnails.high.url         4748 non-null   object \n",
      " 14  snippet.thumbnails.high.width       4748 non-null   float64\n",
      " 15  snippet.thumbnails.high.height      4748 non-null   float64\n",
      " 16  snippet.thumbnails.standard.url     4430 non-null   object \n",
      " 17  snippet.thumbnails.standard.width   4430 non-null   float64\n",
      " 18  snippet.thumbnails.standard.height  4430 non-null   float64\n",
      " 19  snippet.thumbnails.maxres.url       3219 non-null   object \n",
      " 20  snippet.thumbnails.maxres.width     3219 non-null   float64\n",
      " 21  snippet.thumbnails.maxres.height    3219 non-null   float64\n",
      " 22  snippet.channelTitle                4993 non-null   object \n",
      " 23  snippet.playlistId                  4993 non-null   object \n",
      " 24  snippet.position                    4993 non-null   int64  \n",
      " 25  snippet.resourceId.kind             4993 non-null   object \n",
      " 26  snippet.resourceId.videoId          4993 non-null   object \n",
      " 27  snippet.videoOwnerChannelTitle      4748 non-null   object \n",
      " 28  snippet.videoOwnerChannelId         4748 non-null   object \n",
      "dtypes: float64(10), int64(1), object(18)\n",
      "memory usage: 1.1+ MB\n"
     ]
    }
   ],
   "source": [
    "youtube_likes.info()"
   ]
  },
  {
   "cell_type": "code",
   "execution_count": 14,
   "metadata": {},
   "outputs": [
    {
     "name": "stderr",
     "output_type": "stream",
     "text": [
      "[2024-07-03 15:23:44] [INFO]  Standardising data...\n",
      "[2024-07-03 15:23:44] [INFO]  Dropped 0 rows with more than 5 NaN values\n",
      "[2024-07-03 15:23:44] [INFO]  Standardised column names\n"
     ]
    },
    {
     "name": "stdout",
     "output_type": "stream",
     "text": [
      "<class 'pandas.core.frame.DataFrame'>\n",
      "RangeIndex: 4993 entries, 0 to 4992\n",
      "Data columns (total 29 columns):\n",
      " #   Column                              Non-Null Count  Dtype  \n",
      "---  ------                              --------------  -----  \n",
      " 0   kind                                4993 non-null   object \n",
      " 1   etag                                4993 non-null   object \n",
      " 2   id                                  4993 non-null   object \n",
      " 3   snippet.published_at                4993 non-null   object \n",
      " 4   snippet.channel_id                  4993 non-null   object \n",
      " 5   snippet.title                       4993 non-null   object \n",
      " 6   snippet.description                 4957 non-null   object \n",
      " 7   snippet.thumbnails.default.url      4748 non-null   object \n",
      " 8   snippet.thumbnails.default.width    4748 non-null   float64\n",
      " 9   snippet.thumbnails.default.height   4748 non-null   float64\n",
      " 10  snippet.thumbnails.medium.url       4748 non-null   object \n",
      " 11  snippet.thumbnails.medium.width     4748 non-null   float64\n",
      " 12  snippet.thumbnails.medium.height    4748 non-null   float64\n",
      " 13  snippet.thumbnails.high.url         4748 non-null   object \n",
      " 14  snippet.thumbnails.high.width       4748 non-null   float64\n",
      " 15  snippet.thumbnails.high.height      4748 non-null   float64\n",
      " 16  snippet.thumbnails.standard.url     4430 non-null   object \n",
      " 17  snippet.thumbnails.standard.width   4430 non-null   float64\n",
      " 18  snippet.thumbnails.standard.height  4430 non-null   float64\n",
      " 19  snippet.thumbnails.maxres.url       3219 non-null   object \n",
      " 20  snippet.thumbnails.maxres.width     3219 non-null   float64\n",
      " 21  snippet.thumbnails.maxres.height    3219 non-null   float64\n",
      " 22  snippet.channel_title               4993 non-null   object \n",
      " 23  snippet.playlist_id                 4993 non-null   object \n",
      " 24  snippet.position                    4993 non-null   int64  \n",
      " 25  snippet.resource_id.kind            4993 non-null   object \n",
      " 26  snippet.resource_id.video_id        4993 non-null   object \n",
      " 27  snippet.video_owner_channel_title   4748 non-null   object \n",
      " 28  snippet.video_owner_channel_id      4748 non-null   object \n",
      "dtypes: float64(10), int64(1), object(18)\n",
      "memory usage: 1.1+ MB\n"
     ]
    }
   ],
   "source": [
    "youtube_likes_clean = data_standardiser.CleanData.clean_data(\n",
    "    youtube_likes, na_threshold=5\n",
    ")\n",
    "\n",
    "youtube_likes_clean.info()"
   ]
  },
  {
   "cell_type": "code",
   "execution_count": null,
   "metadata": {},
   "outputs": [],
   "source": []
  }
 ],
 "metadata": {
  "kernelspec": {
   "display_name": "etlenv",
   "language": "python",
   "name": "python3"
  },
  "language_info": {
   "codemirror_mode": {
    "name": "ipython",
    "version": 3
   },
   "file_extension": ".py",
   "mimetype": "text/x-python",
   "name": "python",
   "nbconvert_exporter": "python",
   "pygments_lexer": "ipython3",
   "version": "3.12.3"
  }
 },
 "nbformat": 4,
 "nbformat_minor": 2
}
