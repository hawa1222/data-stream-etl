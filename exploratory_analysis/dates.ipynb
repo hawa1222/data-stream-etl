{
 "cells": [
  {
   "cell_type": "code",
   "execution_count": 1,
   "metadata": {},
   "outputs": [],
   "source": [
    "import pytz\n",
    "from dateutil import parser"
   ]
  },
  {
   "cell_type": "code",
   "execution_count": 5,
   "metadata": {},
   "outputs": [],
   "source": [
    "def standardise_youtube_html(date_str):\n",
    "    # Parse the date string without timezone info\n",
    "    dt = parser.parse(date_str, tzinfos={\"BST\": +3600})\n",
    "    # print(\"Parsed date:\", dt)\n",
    "\n",
    "    localized_dt = dt.astimezone(pytz.UTC).strftime(\"%Y-%m-%dT%H:%M:%SZ\")\n",
    "    # print(\"Localized date:\", localized_dt)\n",
    "\n",
    "    return localized_dt"
   ]
  },
  {
   "cell_type": "code",
   "execution_count": 6,
   "metadata": {},
   "outputs": [
    {
     "name": "stdout",
     "output_type": "stream",
     "text": [
      "2024-03-28T14:04:46Z\n"
     ]
    }
   ],
   "source": [
    "print(\n",
    "    standardise_youtube_html(\"Mar 28, 2024, 3:04:46 PM BST\")\n",
    ")  # Should output: 2024-03-28T14:04:46Z"
   ]
  },
  {
   "cell_type": "code",
   "execution_count": 7,
   "metadata": {},
   "outputs": [
    {
     "name": "stdout",
     "output_type": "stream",
     "text": [
      "2024-03-28T14:04:46Z\n"
     ]
    }
   ],
   "source": [
    "date = standardise_youtube_html(\"Mar 28, 2024, 3:04:46 PM BST\")\n",
    "print(str(date))"
   ]
  },
  {
   "cell_type": "code",
   "execution_count": 2,
   "metadata": {},
   "outputs": [],
   "source": [
    "def extract_datetime_string(timestamp):\n",
    "    return timestamp.strftime(\"%Y-%m-%d %H:%M:%S%z\")"
   ]
  },
  {
   "cell_type": "code",
   "execution_count": 4,
   "metadata": {},
   "outputs": [
    {
     "name": "stdout",
     "output_type": "stream",
     "text": [
      "2022-11-02 08:19:53+0000\n",
      "2022-11-02 07:19:53+0000\n"
     ]
    }
   ],
   "source": [
    "import pandas as pd\n",
    "\n",
    "# Timestamp('2022-11-02 08:19:53+0000', tz='Europe/London') convert to pd series\n",
    "print(\n",
    "    extract_datetime_string(\n",
    "        pd.Timestamp(\"2022-11-02 08:19:53+0000\", tz=\"Europe/London\")\n",
    "    )\n",
    ")\n",
    "# Timestamp('2022-11-02 08:19:53+0100', tz='Europe/London') convert to pd series\n",
    "print(\n",
    "    extract_datetime_string(\n",
    "        pd.Timestamp(\"2022-11-02 08:19:53+0100\", tz=\"Europe/London\")\n",
    "    )\n",
    ")"
   ]
  },
  {
   "cell_type": "code",
   "execution_count": null,
   "metadata": {},
   "outputs": [],
   "source": []
  }
 ],
 "metadata": {
  "kernelspec": {
   "display_name": "etlenv",
   "language": "python",
   "name": "python3"
  },
  "language_info": {
   "codemirror_mode": {
    "name": "ipython",
    "version": 3
   },
   "file_extension": ".py",
   "mimetype": "text/x-python",
   "name": "python",
   "nbconvert_exporter": "python",
   "pygments_lexer": "ipython3",
   "version": "3.12.3"
  }
 },
 "nbformat": 4,
 "nbformat_minor": 2
}
