{
 "cells": [
  {
   "cell_type": "code",
   "execution_count": 1,
   "metadata": {},
   "outputs": [],
   "source": [
    "import xml.etree.ElementTree as ET\n",
    "from collections import defaultdict\n",
    "\n",
    "import pandas as pd\n",
    "\n",
    "from constants import FileDirectory\n",
    "from utility.file_manager import FileManager"
   ]
  },
  {
   "cell_type": "code",
   "execution_count": 2,
   "metadata": {},
   "outputs": [
    {
     "name": "stderr",
     "output_type": "stream",
     "text": [
      "[2024-07-19 23:24:26 +0100] [INFO] [file_manager.py] Successfully loaded file from /Users/hadid/GitHub/ETL/data/source_data/apple_health.xml\n"
     ]
    }
   ],
   "source": [
    "from constants import Apple\n",
    "\n",
    "file_manager = FileManager()\n",
    "\n",
    "tree = file_manager.load_file(FileDirectory.SOURCE_DATA_PATH, Apple.XML_DATA, \"xml\")\n",
    "root = tree.getroot()"
   ]
  },
  {
   "cell_type": "code",
   "execution_count": 3,
   "metadata": {},
   "outputs": [
    {
     "name": "stdout",
     "output_type": "stream",
     "text": [
      "Unique elements in the XML: {'Record', 'WorkoutEvent', 'ActivitySummary', 'ExportDate', 'Workout', 'FileReference', 'Me', 'WorkoutStatistics', 'WorkoutActivity', 'HeartRateVariabilityMetadataList', 'InstantaneousBeatsPerMinute', 'WorkoutRoute', 'MetadataEntry', 'HealthData'}\n",
      "Number of unique elements in the XML: 14\n"
     ]
    }
   ],
   "source": [
    "unique_elements = {elem.tag for elem in root.iter()}\n",
    "print(\"Unique elements in the XML:\", unique_elements)\n",
    "print(\"Number of unique elements in the XML:\", len(unique_elements))"
   ]
  },
  {
   "cell_type": "code",
   "execution_count": 5,
   "metadata": {},
   "outputs": [],
   "source": [
    "records = [record.attrib for record in root.iter(\"Record\")]  # Creates a list\n",
    "records_df = pd.DataFrame(records)  # Creates a dataframe\n",
    "\n",
    "# Get unique categories and their counts\n",
    "unique_categories = records_df[\"type\"].value_counts()"
   ]
  },
  {
   "cell_type": "code",
   "execution_count": 6,
   "metadata": {},
   "outputs": [
    {
     "data": {
      "text/plain": [
       "{'HKQuantityTypeIdentifierActiveEnergyBurned': 737331,\n",
       " 'HKQuantityTypeIdentifierBasalEnergyBurned': 457894,\n",
       " 'HKQuantityTypeIdentifierHeartRate': 381050,\n",
       " 'HKQuantityTypeIdentifierDistanceWalkingRunning': 349033,\n",
       " 'HKQuantityTypeIdentifierStepCount': 295037,\n",
       " 'HKQuantityTypeIdentifierPhysicalEffort': 141235,\n",
       " 'HKQuantityTypeIdentifierRunningSpeed': 139794,\n",
       " 'HKQuantityTypeIdentifierRunningPower': 135019,\n",
       " 'HKQuantityTypeIdentifierRunningStrideLength': 65789,\n",
       " 'HKQuantityTypeIdentifierRunningVerticalOscillation': 65523,\n",
       " 'HKQuantityTypeIdentifierRunningGroundContactTime': 65478,\n",
       " 'HKQuantityTypeIdentifierAppleExerciseTime': 59602,\n",
       " 'HKQuantityTypeIdentifierAppleStandTime': 40494,\n",
       " 'HKQuantityTypeIdentifierRespiratoryRate': 30010,\n",
       " 'HKCategoryTypeIdentifierSleepAnalysis': 23117,\n",
       " 'HKCategoryTypeIdentifierAppleStandHour': 15414,\n",
       " 'HKQuantityTypeIdentifierOxygenSaturation': 12466,\n",
       " 'HKQuantityTypeIdentifierFlightsClimbed': 12159,\n",
       " 'HKQuantityTypeIdentifierWalkingStepLength': 9712,\n",
       " 'HKQuantityTypeIdentifierWalkingSpeed': 9712,\n",
       " 'HKQuantityTypeIdentifierWalkingDoubleSupportPercentage': 8866,\n",
       " 'HKQuantityTypeIdentifierHeartRateVariabilitySDNN': 6867,\n",
       " 'HKQuantityTypeIdentifierBloodGlucose': 5917,\n",
       " 'HKQuantityTypeIdentifierWalkingAsymmetryPercentage': 5026,\n",
       " 'HKQuantityTypeIdentifierEnvironmentalAudioExposure': 3836,\n",
       " 'HKQuantityTypeIdentifierStairAscentSpeed': 3269,\n",
       " 'HKCategoryTypeIdentifierHandwashingEvent': 2361,\n",
       " 'HKQuantityTypeIdentifierStairDescentSpeed': 1583,\n",
       " 'HKQuantityTypeIdentifierTimeInDaylight': 1314,\n",
       " 'HKCategoryTypeIdentifierLowHeartRateEvent': 1025,\n",
       " 'HKQuantityTypeIdentifierRestingHeartRate': 711,\n",
       " 'HKQuantityTypeIdentifierWalkingHeartRateAverage': 707,\n",
       " 'HKQuantityTypeIdentifierVO2Max': 653,\n",
       " 'HKQuantityTypeIdentifierHeartRateRecoveryOneMinute': 489,\n",
       " 'HKCategoryTypeIdentifierMindfulSession': 392,\n",
       " 'HKQuantityTypeIdentifierHeadphoneAudioExposure': 286,\n",
       " 'HKQuantityTypeIdentifierDietaryEnergyConsumed': 124,\n",
       " 'HKQuantityTypeIdentifierDietaryProtein': 119,\n",
       " 'HKQuantityTypeIdentifierDietaryCarbohydrates': 118,\n",
       " 'HKQuantityTypeIdentifierDietaryFatSaturated': 106,\n",
       " 'HKQuantityTypeIdentifierDietarySugar': 100,\n",
       " 'HKQuantityTypeIdentifierDietaryFatTotal': 96,\n",
       " 'HKQuantityTypeIdentifierDietarySodium': 95,\n",
       " 'HKQuantityTypeIdentifierDietaryFiber': 88,\n",
       " 'HKQuantityTypeIdentifierSixMinuteWalkTestDistance': 81,\n",
       " 'HKQuantityTypeIdentifierDietaryPotassium': 67,\n",
       " 'HKQuantityTypeIdentifierBodyMass': 53,\n",
       " 'HKQuantityTypeIdentifierAppleWalkingSteadiness': 41,\n",
       " 'HKQuantityTypeIdentifierDietaryWater': 20,\n",
       " 'HKQuantityTypeIdentifierDietaryCholesterol': 20,\n",
       " 'HKQuantityTypeIdentifierBodyMassIndex': 18,\n",
       " 'HKCategoryTypeIdentifierAudioExposureEvent': 7,\n",
       " 'HKDataTypeSleepDurationGoal': 2}"
      ]
     },
     "execution_count": 6,
     "metadata": {},
     "output_type": "execute_result"
    }
   ],
   "source": [
    "# Create a dictionary of type name and number of records\n",
    "# Get unique categories and their counts\n",
    "unique_categories = records_df[\"type\"].value_counts()\n",
    "type_counts = {category: count for category, count in unique_categories.items()}\n",
    "\n",
    "type_counts"
   ]
  },
  {
   "cell_type": "code",
   "execution_count": 4,
   "metadata": {},
   "outputs": [
    {
     "name": "stdout",
     "output_type": "stream",
     "text": [
      "Element: HealthData\n",
      "Attributes: locale\n",
      "Nested Elements: ActivitySummary, Me, Record, ExportDate, Workout\n",
      "\n",
      "Element: HealthData/ExportDate\n",
      "Attributes: value\n",
      "Nested Elements: \n",
      "\n",
      "Element: HealthData/Me\n",
      "Attributes: HKCharacteristicTypeIdentifierCardioFitnessMedicationsUse, HKCharacteristicTypeIdentifierDateOfBirth, HKCharacteristicTypeIdentifierBloodType, HKCharacteristicTypeIdentifierFitzpatrickSkinType, HKCharacteristicTypeIdentifierBiologicalSex\n",
      "Nested Elements: \n",
      "\n",
      "Element: HealthData/Record\n",
      "Attributes: startDate, value, type, creationDate, endDate, sourceName, unit, sourceVersion, device\n",
      "Nested Elements: HeartRateVariabilityMetadataList, MetadataEntry\n",
      "\n",
      "Element: HealthData/Record/MetadataEntry\n",
      "Attributes: value, key\n",
      "Nested Elements: \n",
      "\n",
      "Element: HealthData/Workout\n",
      "Attributes: startDate, workoutActivityType, duration, creationDate, endDate, sourceName, durationUnit, sourceVersion, device\n",
      "Nested Elements: WorkoutActivity, WorkoutStatistics, MetadataEntry, WorkoutRoute, WorkoutEvent\n",
      "\n",
      "Element: HealthData/Workout/MetadataEntry\n",
      "Attributes: value, key\n",
      "Nested Elements: \n",
      "\n",
      "Element: HealthData/Workout/WorkoutEvent\n",
      "Attributes: durationUnit, type, duration, date\n",
      "Nested Elements: MetadataEntry\n",
      "\n",
      "Element: HealthData/Workout/WorkoutEvent/MetadataEntry\n",
      "Attributes: value, key\n",
      "Nested Elements: \n",
      "\n",
      "Element: HealthData/Workout/WorkoutStatistics\n",
      "Attributes: average, startDate, type, minimum, maximum, endDate, sum, unit\n",
      "Nested Elements: \n",
      "\n",
      "Element: HealthData/Workout/WorkoutRoute\n",
      "Attributes: startDate, creationDate, sourceName, endDate, sourceVersion, device\n",
      "Nested Elements: MetadataEntry, FileReference\n",
      "\n",
      "Element: HealthData/Workout/WorkoutRoute/FileReference\n",
      "Attributes: path\n",
      "Nested Elements: \n",
      "\n",
      "Element: HealthData/Workout/WorkoutRoute/MetadataEntry\n",
      "Attributes: value, key\n",
      "Nested Elements: \n",
      "\n",
      "Element: HealthData/Workout/WorkoutActivity\n",
      "Attributes: startDate, uuid, duration, endDate, durationUnit\n",
      "Nested Elements: WorkoutEvent, MetadataEntry, WorkoutStatistics\n",
      "\n",
      "Element: HealthData/Workout/WorkoutActivity/WorkoutEvent\n",
      "Attributes: durationUnit, type, duration, date\n",
      "Nested Elements: \n",
      "\n",
      "Element: HealthData/Workout/WorkoutActivity/WorkoutStatistics\n",
      "Attributes: average, startDate, type, minimum, maximum, endDate, sum, unit\n",
      "Nested Elements: \n",
      "\n",
      "Element: HealthData/Workout/WorkoutActivity/MetadataEntry\n",
      "Attributes: value, key\n",
      "Nested Elements: \n",
      "\n",
      "Element: HealthData/ActivitySummary\n",
      "Attributes: activeEnergyBurned, appleExerciseTimeGoal, appleExerciseTime, appleStandHoursGoal, appleMoveTimeGoal, appleStandHours, dateComponents, activeEnergyBurnedGoal, activeEnergyBurnedUnit, appleMoveTime\n",
      "Nested Elements: \n",
      "\n",
      "Element: HealthData/Record/HeartRateVariabilityMetadataList\n",
      "Attributes: \n",
      "Nested Elements: InstantaneousBeatsPerMinute\n",
      "\n",
      "Element: HealthData/Record/HeartRateVariabilityMetadataList/InstantaneousBeatsPerMinute\n",
      "Attributes: bpm, time\n",
      "Nested Elements: \n",
      "\n"
     ]
    }
   ],
   "source": [
    "# Step 1: Find unique elements, their attributes, and nested elements\n",
    "def analyse_xml_structure(element, structure=None, path=\"\"):\n",
    "    if structure is None:\n",
    "        structure = defaultdict(lambda: {\"attributes\": set(), \"nested_elements\": set()})\n",
    "\n",
    "    current_path = f\"{path}/{element.tag}\" if path else element.tag\n",
    "    structure[current_path][\"attributes\"].update(element.attrib.keys())\n",
    "\n",
    "    for child in element:\n",
    "        structure[current_path][\"nested_elements\"].add(child.tag)\n",
    "        analyse_xml_structure(child, structure, current_path)\n",
    "\n",
    "    return structure\n",
    "\n",
    "\n",
    "xml_structure = analyse_xml_structure(root)\n",
    "\n",
    "# Print the structure\n",
    "for element, info in xml_structure.items():\n",
    "    print(f\"Element: {element}\")\n",
    "    print(f\"Attributes: {', '.join(info['attributes'])}\")\n",
    "    print(f\"Nested Elements: {', '.join(info['nested_elements'])}\")\n",
    "    print()"
   ]
  },
  {
   "cell_type": "code",
   "execution_count": null,
   "metadata": {},
   "outputs": [],
   "source": [
    "# Step 2: Function to extract elements into DataFrames\n",
    "def extract_element_to_df(root, element_name):\n",
    "    data = []\n",
    "    for elem in root.iter(element_name):\n",
    "        row = elem.attrib.copy()\n",
    "        for child in elem:\n",
    "            if list(child):  # If the child has nested elements\n",
    "                row[child.tag] = ET.tostring(child, encoding=\"unicode\")\n",
    "            else:\n",
    "                row[child.tag] = child.text\n",
    "        data.append(row)\n",
    "    return pd.DataFrame(data)\n",
    "\n",
    "\n",
    "# Extract specific elements (example)\n",
    "record_df = extract_element_to_df(root, \"Record\")\n",
    "workout_df = extract_element_to_df(root, \"Workout\")\n",
    "activity_summary_df = extract_element_to_df(root, \"ActivitySummary\")"
   ]
  },
  {
   "cell_type": "code",
   "execution_count": null,
   "metadata": {},
   "outputs": [],
   "source": [
    "# Now you can inspect these DataFrames in the variable explorer\n",
    "\n",
    "# Step 3: Function to save DataFrames to Excel (to be used later)\n",
    "def save_dfs_to_excel(dfs_dict, file_name):\n",
    "    file_manager = FileManager()\n",
    "    with pd.ExcelWriter(file_name) as writer:\n",
    "        for sheet_name, df in dfs_dict.items():\n",
    "            df.to_excel(writer, sheet_name=sheet_name, index=False)\n",
    "    file_manager.save_file(FileDirectory.RAW_DATA_PATH, file_name, writer)\n",
    "\n",
    "\n",
    "# Example usage (commented out for now)\n",
    "# dfs_to_save = {\n",
    "#     'Record': record_df,\n",
    "#     'Workout': workout_df,\n",
    "#     'ActivitySummary': activity_summary_df\n",
    "# }\n",
    "# save_dfs_to_excel(dfs_to_save, 'health_data.xlsx')"
   ]
  },
  {
   "cell_type": "code",
   "execution_count": null,
   "metadata": {},
   "outputs": [],
   "source": []
  }
 ],
 "metadata": {
  "kernelspec": {
   "display_name": ".venv",
   "language": "python",
   "name": "python3"
  },
  "language_info": {
   "codemirror_mode": {
    "name": "ipython",
    "version": 3
   },
   "file_extension": ".py",
   "mimetype": "text/x-python",
   "name": "python",
   "nbconvert_exporter": "python",
   "pygments_lexer": "ipython3",
   "version": "3.12.3"
  }
 },
 "nbformat": 4,
 "nbformat_minor": 2
}
