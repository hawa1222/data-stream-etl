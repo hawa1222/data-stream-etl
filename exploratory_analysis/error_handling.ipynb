{
 "cells": [
  {
   "cell_type": "markdown",
   "metadata": {},
   "source": [
    "# Error Handling in Python - A Comprehensive Tutorial\n",
    "\n",
    "This notebook explores various error handling techniques in Python, focusing on:\n",
    "1. Basic exception handling\n",
    "2. Creating custom exceptions\n",
    "3. Exception propagation\n",
    "4. Logging errors\n",
    "5. Best practices and common patterns\n",
    "\n",
    "Let's start by importing the necessary modules:"
   ]
  },
  {
   "cell_type": "code",
   "execution_count": 1,
   "metadata": {},
   "outputs": [],
   "source": [
    "from utility.log_manager import setup_logging\n",
    "\n",
    "logger = setup_logging()"
   ]
  },
  {
   "cell_type": "markdown",
   "metadata": {},
   "source": [
    "## 1. Basic Exception Handling\n",
    "\n",
    "Let's start with a simple example of try-except blocks:"
   ]
  },
  {
   "cell_type": "code",
   "execution_count": 1,
   "metadata": {},
   "outputs": [
    {
     "ename": "ZeroDivisionError",
     "evalue": "division by zero",
     "output_type": "error",
     "traceback": [
      "\u001b[0;31m---------------------------------------------------------------------------\u001b[0m",
      "\u001b[0;31mZeroDivisionError\u001b[0m                         Traceback (most recent call last)",
      "Cell \u001b[0;32mIn[1], line 1\u001b[0m\n\u001b[0;32m----> 1\u001b[0m \u001b[38;5;241;43m10\u001b[39;49m\u001b[43m \u001b[49m\u001b[38;5;241;43m/\u001b[39;49m\u001b[38;5;241;43m0\u001b[39;49m \n",
      "\u001b[0;31mZeroDivisionError\u001b[0m: division by zero"
     ]
    }
   ],
   "source": [
    "10 / 0"
   ]
  },
  {
   "cell_type": "code",
   "execution_count": 26,
   "metadata": {},
   "outputs": [
    {
     "ename": "TypeError",
     "evalue": "You can't divide by a string!: unsupported operand type(s) for /: 'int' and 'str'",
     "output_type": "error",
     "traceback": [
      "\u001b[0;31m---------------------------------------------------------------------------\u001b[0m",
      "\u001b[0;31mTypeError\u001b[0m                                 Traceback (most recent call last)",
      "Cell \u001b[0;32mIn[26], line 4\u001b[0m\n\u001b[1;32m      3\u001b[0m     y \u001b[38;5;241m=\u001b[39m \u001b[38;5;124m\"\u001b[39m\u001b[38;5;124m2\u001b[39m\u001b[38;5;124m\"\u001b[39m\n\u001b[0;32m----> 4\u001b[0m     z \u001b[38;5;241m=\u001b[39m \u001b[43mx\u001b[49m\u001b[43m \u001b[49m\u001b[38;5;241;43m/\u001b[39;49m\u001b[43m \u001b[49m\u001b[43my\u001b[49m\n\u001b[1;32m      5\u001b[0m \u001b[38;5;28;01mexcept\u001b[39;00m \u001b[38;5;167;01mZeroDivisionError\u001b[39;00m:\n",
      "\u001b[0;31mTypeError\u001b[0m: unsupported operand type(s) for /: 'int' and 'str'",
      "\nDuring handling of the above exception, another exception occurred:\n",
      "\u001b[0;31mTypeError\u001b[0m                                 Traceback (most recent call last)",
      "Cell \u001b[0;32mIn[26], line 8\u001b[0m\n\u001b[1;32m      6\u001b[0m     \u001b[38;5;28mprint\u001b[39m(\u001b[38;5;124m\"\u001b[39m\u001b[38;5;124mYou can\u001b[39m\u001b[38;5;124m'\u001b[39m\u001b[38;5;124mt divide by zero!\u001b[39m\u001b[38;5;124m\"\u001b[39m)\n\u001b[1;32m      7\u001b[0m \u001b[38;5;28;01mexcept\u001b[39;00m \u001b[38;5;167;01mTypeError\u001b[39;00m \u001b[38;5;28;01mas\u001b[39;00m e:\n\u001b[0;32m----> 8\u001b[0m     \u001b[38;5;28;01mraise\u001b[39;00m \u001b[38;5;167;01mTypeError\u001b[39;00m(\u001b[38;5;124m\"\u001b[39m\u001b[38;5;124mYou can\u001b[39m\u001b[38;5;124m'\u001b[39m\u001b[38;5;124mt divide by a string!: \u001b[39m\u001b[38;5;124m\"\u001b[39m \u001b[38;5;241m+\u001b[39m \u001b[38;5;28mstr\u001b[39m(e))\n",
      "\u001b[0;31mTypeError\u001b[0m: You can't divide by a string!: unsupported operand type(s) for /: 'int' and 'str'"
     ]
    }
   ],
   "source": [
    "try:\n",
    "    x = 1\n",
    "    y = \"2\"\n",
    "    z = x / y\n",
    "except ZeroDivisionError:\n",
    "    print(\"You can't divide by zero!\")\n",
    "except TypeError as e:\n",
    "    raise TypeError(\"You can't divide by a string!: \" + str(e))"
   ]
  },
  {
   "cell_type": "code",
   "execution_count": 29,
   "metadata": {},
   "outputs": [
    {
     "ename": "TypeError",
     "evalue": "unsupported operand type(s) for /: 'int' and 'str'",
     "output_type": "error",
     "traceback": [
      "\u001b[0;31m---------------------------------------------------------------------------\u001b[0m",
      "\u001b[0;31mTypeError\u001b[0m                                 Traceback (most recent call last)",
      "Cell \u001b[0;32mIn[29], line 19\u001b[0m\n\u001b[1;32m     16\u001b[0m     \u001b[38;5;28;01mexcept\u001b[39;00m \u001b[38;5;167;01mTypeError\u001b[39;00m:\n\u001b[1;32m     17\u001b[0m         \u001b[38;5;28;01mraise\u001b[39;00m\n\u001b[0;32m---> 19\u001b[0m \u001b[43mb\u001b[49m\u001b[43m(\u001b[49m\u001b[43m)\u001b[49m\n\u001b[1;32m     21\u001b[0m \u001b[38;5;66;03m# If you log a message inside an except block, a message will be logged every time the exception is raised.\u001b[39;00m\n\u001b[1;32m     22\u001b[0m \u001b[38;5;66;03m# If you type 'raise' in an except block, the exception will be outputted\u001b[39;00m\n\u001b[1;32m     23\u001b[0m \u001b[38;5;66;03m# If you re-raise the exception \"raise Exception\", the original exception, and new exception will be outputted\u001b[39;00m\n",
      "Cell \u001b[0;32mIn[29], line 13\u001b[0m, in \u001b[0;36mb\u001b[0;34m()\u001b[0m\n\u001b[1;32m     11\u001b[0m \u001b[38;5;28;01mdef\u001b[39;00m \u001b[38;5;21mb\u001b[39m():\n\u001b[1;32m     12\u001b[0m     \u001b[38;5;28;01mtry\u001b[39;00m:\n\u001b[0;32m---> 13\u001b[0m         \u001b[43ma\u001b[49m\u001b[43m(\u001b[49m\u001b[43m)\u001b[49m\n\u001b[1;32m     14\u001b[0m     \u001b[38;5;28;01mexcept\u001b[39;00m \u001b[38;5;167;01mZeroDivisionError\u001b[39;00m:\n\u001b[1;32m     15\u001b[0m         \u001b[38;5;28mprint\u001b[39m(\u001b[38;5;124m\"\u001b[39m\u001b[38;5;124mYou can\u001b[39m\u001b[38;5;124m'\u001b[39m\u001b[38;5;124mt divide by zero!\u001b[39m\u001b[38;5;124m\"\u001b[39m)\n",
      "Cell \u001b[0;32mIn[29], line 5\u001b[0m, in \u001b[0;36ma\u001b[0;34m()\u001b[0m\n\u001b[1;32m      3\u001b[0m     x \u001b[38;5;241m=\u001b[39m \u001b[38;5;241m1\u001b[39m\n\u001b[1;32m      4\u001b[0m     y \u001b[38;5;241m=\u001b[39m \u001b[38;5;124m\"\u001b[39m\u001b[38;5;124m2\u001b[39m\u001b[38;5;124m\"\u001b[39m\n\u001b[0;32m----> 5\u001b[0m     z \u001b[38;5;241m=\u001b[39m \u001b[43mx\u001b[49m\u001b[43m \u001b[49m\u001b[38;5;241;43m/\u001b[39;49m\u001b[43m \u001b[49m\u001b[43my\u001b[49m\n\u001b[1;32m      6\u001b[0m \u001b[38;5;28;01mexcept\u001b[39;00m \u001b[38;5;167;01mZeroDivisionError\u001b[39;00m:\n\u001b[1;32m      7\u001b[0m     \u001b[38;5;28mprint\u001b[39m(\u001b[38;5;124m\"\u001b[39m\u001b[38;5;124mYou can\u001b[39m\u001b[38;5;124m'\u001b[39m\u001b[38;5;124mt divide by zero!\u001b[39m\u001b[38;5;124m\"\u001b[39m)\n",
      "\u001b[0;31mTypeError\u001b[0m: unsupported operand type(s) for /: 'int' and 'str'"
     ]
    }
   ],
   "source": [
    "def a():\n",
    "    try:\n",
    "        x = 1\n",
    "        y = \"2\"\n",
    "        z = x / y\n",
    "    except ZeroDivisionError:\n",
    "        print(\"You can't divide by zero!\")\n",
    "    except TypeError:\n",
    "        print(\"Wrong type!\")\n",
    "\n",
    "\n",
    "def b():\n",
    "    try:\n",
    "        a()\n",
    "    except ZeroDivisionError:\n",
    "        print(\"You can't divide by zero!\")\n",
    "    except TypeError:\n",
    "        print(\"Error: Wrong type!\")\n",
    "\n",
    "\n",
    "b()\n",
    "\n",
    "# If you log a message inside an except block, a message will be logged every time the exception is raised.\n",
    "# If you type 'raise' in an except block, the exception will be outputted\n",
    "# If you re-raise the exception \"raise Exception\", the original exception, and new exception will be outputted"
   ]
  },
  {
   "cell_type": "code",
   "execution_count": 3,
   "metadata": {},
   "outputs": [
    {
     "name": "stdout",
     "output_type": "stream",
     "text": [
      "5.0\n"
     ]
    }
   ],
   "source": [
    "def divide(a, b):\n",
    "    try:\n",
    "        result = a / b\n",
    "        return result\n",
    "    except ZeroDivisionError:\n",
    "        print(\"Error: Division by zero!\")\n",
    "        return None\n",
    "\n",
    "\n",
    "print(divide(10, 2))  # Normal case"
   ]
  },
  {
   "cell_type": "code",
   "execution_count": 4,
   "metadata": {},
   "outputs": [
    {
     "name": "stdout",
     "output_type": "stream",
     "text": [
      "Error: Division by zero!\n",
      "None\n"
     ]
    }
   ],
   "source": [
    "print(divide(10, 0))  # Division by zero"
   ]
  },
  {
   "cell_type": "code",
   "execution_count": 7,
   "metadata": {},
   "outputs": [
    {
     "ename": "RuntimeError",
     "evalue": "unable to handle error",
     "output_type": "error",
     "traceback": [
      "\u001b[0;31m---------------------------------------------------------------------------\u001b[0m",
      "\u001b[0;31mFileNotFoundError\u001b[0m                         Traceback (most recent call last)",
      "Cell \u001b[0;32mIn[7], line 2\u001b[0m\n\u001b[1;32m      1\u001b[0m \u001b[38;5;28;01mtry\u001b[39;00m:\n\u001b[0;32m----> 2\u001b[0m    \u001b[38;5;28;43mopen\u001b[39;49m\u001b[43m(\u001b[49m\u001b[38;5;124;43m\"\u001b[39;49m\u001b[38;5;124;43mnofile.txt\u001b[39;49m\u001b[38;5;124;43m\"\u001b[39;49m\u001b[43m)\u001b[49m\n\u001b[1;32m      3\u001b[0m \u001b[38;5;28;01mexcept\u001b[39;00m \u001b[38;5;167;01mOSError\u001b[39;00m:\n",
      "File \u001b[0;32m~/GitHub/ETL/.venv/lib/python3.12/site-packages/IPython/core/interactiveshell.py:324\u001b[0m, in \u001b[0;36m_modified_open\u001b[0;34m(file, *args, **kwargs)\u001b[0m\n\u001b[1;32m    318\u001b[0m     \u001b[38;5;28;01mraise\u001b[39;00m \u001b[38;5;167;01mValueError\u001b[39;00m(\n\u001b[1;32m    319\u001b[0m         \u001b[38;5;124mf\u001b[39m\u001b[38;5;124m\"\u001b[39m\u001b[38;5;124mIPython won\u001b[39m\u001b[38;5;124m'\u001b[39m\u001b[38;5;124mt let you open fd=\u001b[39m\u001b[38;5;132;01m{\u001b[39;00mfile\u001b[38;5;132;01m}\u001b[39;00m\u001b[38;5;124m by default \u001b[39m\u001b[38;5;124m\"\u001b[39m\n\u001b[1;32m    320\u001b[0m         \u001b[38;5;124m\"\u001b[39m\u001b[38;5;124mas it is likely to crash IPython. If you know what you are doing, \u001b[39m\u001b[38;5;124m\"\u001b[39m\n\u001b[1;32m    321\u001b[0m         \u001b[38;5;124m\"\u001b[39m\u001b[38;5;124myou can use builtins\u001b[39m\u001b[38;5;124m'\u001b[39m\u001b[38;5;124m open.\u001b[39m\u001b[38;5;124m\"\u001b[39m\n\u001b[1;32m    322\u001b[0m     )\n\u001b[0;32m--> 324\u001b[0m \u001b[38;5;28;01mreturn\u001b[39;00m \u001b[43mio_open\u001b[49m\u001b[43m(\u001b[49m\u001b[43mfile\u001b[49m\u001b[43m,\u001b[49m\u001b[43m \u001b[49m\u001b[38;5;241;43m*\u001b[39;49m\u001b[43margs\u001b[49m\u001b[43m,\u001b[49m\u001b[43m \u001b[49m\u001b[38;5;241;43m*\u001b[39;49m\u001b[38;5;241;43m*\u001b[39;49m\u001b[43mkwargs\u001b[49m\u001b[43m)\u001b[49m\n",
      "\u001b[0;31mFileNotFoundError\u001b[0m: [Errno 2] No such file or directory: 'nofile.txt'",
      "\nDuring handling of the above exception, another exception occurred:\n",
      "\u001b[0;31mRuntimeError\u001b[0m                              Traceback (most recent call last)",
      "Cell \u001b[0;32mIn[7], line 4\u001b[0m\n\u001b[1;32m      2\u001b[0m    \u001b[38;5;28mopen\u001b[39m(\u001b[38;5;124m\"\u001b[39m\u001b[38;5;124mnofile.txt\u001b[39m\u001b[38;5;124m\"\u001b[39m)\n\u001b[1;32m      3\u001b[0m \u001b[38;5;28;01mexcept\u001b[39;00m \u001b[38;5;167;01mOSError\u001b[39;00m:\n\u001b[0;32m----> 4\u001b[0m    \u001b[38;5;28;01mraise\u001b[39;00m \u001b[38;5;167;01mRuntimeError\u001b[39;00m(\u001b[38;5;124m\"\u001b[39m\u001b[38;5;124munable to handle error\u001b[39m\u001b[38;5;124m\"\u001b[39m)\n\u001b[1;32m      6\u001b[0m \u001b[38;5;66;03m# try:\u001b[39;00m\n\u001b[1;32m      7\u001b[0m \u001b[38;5;66;03m#    open(\"nofile.txt\")\u001b[39;00m\n\u001b[1;32m      8\u001b[0m \u001b[38;5;66;03m# except OSError as exc:\u001b[39;00m\n\u001b[0;32m   (...)\u001b[0m\n\u001b[1;32m     13\u001b[0m \u001b[38;5;66;03m# except OSError as exc:\u001b[39;00m\n\u001b[1;32m     14\u001b[0m \u001b[38;5;66;03m#    raise RuntimeError from None\u001b[39;00m\n",
      "\u001b[0;31mRuntimeError\u001b[0m: unable to handle error"
     ]
    }
   ],
   "source": [
    "try:\n",
    "    open(\"nofile.txt\")\n",
    "except OSError:\n",
    "    raise RuntimeError(\"unable to handle error\")\n",
    "\n",
    "# try:\n",
    "#    open(\"nofile.txt\")\n",
    "# except OSError as exc:\n",
    "#    raise RuntimeError from exc\n",
    "\n",
    "# try:\n",
    "#    open(\"nofile.txt\")\n",
    "# except OSError as exc:\n",
    "#    raise RuntimeError from None"
   ]
  },
  {
   "cell_type": "code",
   "execution_count": 9,
   "metadata": {},
   "outputs": [
    {
     "name": "stdout",
     "output_type": "stream",
     "text": [
      "The exception was TypeError('TypeError2')\n",
      "Its __context__ was ValueError('ValueError1')\n",
      "Its __cause__ was ValueError('ValueError1')\n"
     ]
    }
   ],
   "source": [
    "try:\n",
    "    try:\n",
    "        raise ValueError(\"ValueError1\")\n",
    "    except ValueError as e1:\n",
    "        raise TypeError(\"TypeError2\") from e1\n",
    "except TypeError as e2:\n",
    "    print(\"The exception was\", repr(e2))\n",
    "    print(\"Its __context__ was\", repr(e2.__context__))\n",
    "    print(\"Its __cause__ was\", repr(e2.__cause__))"
   ]
  },
  {
   "cell_type": "markdown",
   "metadata": {},
   "source": [
    "## 2. Creating Custom Exceptions\n",
    "\n",
    "Now, let's create a custom exception hierarchy:"
   ]
  },
  {
   "cell_type": "code",
   "execution_count": 9,
   "metadata": {},
   "outputs": [
    {
     "name": "stdout",
     "output_type": "stream",
     "text": [
      "Result: 6\n",
      "Error processing data: No data provided\n"
     ]
    }
   ],
   "source": [
    "class DataProcessingError(Exception):\n",
    "    \"\"\"Base exception for data processing errors\"\"\"\n",
    "\n",
    "    pass\n",
    "\n",
    "\n",
    "class InvalidDataError(DataProcessingError):\n",
    "    \"\"\"Raised when the input data is invalid\"\"\"\n",
    "\n",
    "    pass\n",
    "\n",
    "\n",
    "class DataNotFoundError(DataProcessingError):\n",
    "    \"\"\"Raised when the required data is not found\"\"\"\n",
    "\n",
    "    pass\n",
    "\n",
    "\n",
    "def process_data(data):\n",
    "    if not data:\n",
    "        raise DataNotFoundError(\"No data provided\")\n",
    "    if not isinstance(data, list):\n",
    "        raise InvalidDataError(\"Data must be a list\")\n",
    "    return sum(data)\n",
    "\n",
    "\n",
    "try:\n",
    "    result = process_data([1, 2, 3])\n",
    "    print(f\"Result: {result}\")\n",
    "    result = process_data({})\n",
    "except DataProcessingError as e:\n",
    "    print(f\"Error processing data: {e}\")"
   ]
  },
  {
   "cell_type": "markdown",
   "metadata": {},
   "source": [
    "## 3. Exception Propagation\n",
    "\n",
    "Let's explore how exceptions propagate through function calls:"
   ]
  },
  {
   "cell_type": "code",
   "execution_count": 8,
   "metadata": {},
   "outputs": [
    {
     "name": "stdout",
     "output_type": "stream",
     "text": [
      "Caught in outer_function: x must be non-negative\n",
      "Caught in main: x must be non-negative\n"
     ]
    }
   ],
   "source": [
    "def inner_function(x):\n",
    "    if x < 0:\n",
    "        raise ValueError(\"x must be non-negative\")\n",
    "    return x**0.5\n",
    "\n",
    "\n",
    "def outer_function(x):\n",
    "    try:\n",
    "        return inner_function(x)\n",
    "    except ValueError as e:\n",
    "        print(f\"Caught in outer_function: {e}\")\n",
    "        raise  # Re-raise the exception\n",
    "\n",
    "\n",
    "try:\n",
    "    result = outer_function(-5)  # Negative input\n",
    "except ValueError as e:\n",
    "    print(f\"Caught in main: {e}\")"
   ]
  },
  {
   "cell_type": "markdown",
   "metadata": {},
   "source": [
    "## 4. Logging Errors\n",
    "\n",
    "Now, let's incorporate logging into our error handling:"
   ]
  },
  {
   "cell_type": "code",
   "execution_count": 10,
   "metadata": {},
   "outputs": [
    {
     "name": "stderr",
     "output_type": "stream",
     "text": [
      "[2024-07-04 16:08:38] [WARNING]  ZeroDivisionError in risky_operation: division by zero\n",
      "[2024-07-04 16:08:38] [CRITICAL]  Unexpected error in risky_operation: Data must have at least two elements\n"
     ]
    },
    {
     "name": "stdout",
     "output_type": "stream",
     "text": [
      "5.0\n",
      "inf\n",
      "Caught in main: ValueError: Data must have at least two elements\n"
     ]
    }
   ],
   "source": [
    "def risky_operation(data):\n",
    "    try:\n",
    "        if len(data) < 2:\n",
    "            raise ValueError(\"Data must have at least two elements\")\n",
    "        return data[0] / data[1]\n",
    "    except IndexError as e:\n",
    "        logger.error(f\"IndexError in risky_operation: {e}\")\n",
    "        raise\n",
    "    except ZeroDivisionError as e:\n",
    "        logger.warning(f\"ZeroDivisionError in risky_operation: {e}\")\n",
    "        return float(\"inf\")\n",
    "    except Exception as e:\n",
    "        logger.critical(f\"Unexpected error in risky_operation: {e}\")\n",
    "        raise\n",
    "\n",
    "\n",
    "try:\n",
    "    print(risky_operation([10, 2]))  # Normal case\n",
    "    print(risky_operation([10, 0]))  # Division by zero\n",
    "    print(risky_operation([]))  # IndexError\n",
    "except Exception as e:\n",
    "    print(f\"Caught in main: {type(e).__name__}: {e}\")"
   ]
  },
  {
   "cell_type": "markdown",
   "metadata": {},
   "source": [
    "## 5. Best Practices and Common Patterns\n",
    "\n",
    "Let's explore some best practices and common patterns in error handling:"
   ]
  },
  {
   "cell_type": "code",
   "execution_count": 11,
   "metadata": {},
   "outputs": [
    {
     "name": "stderr",
     "output_type": "stream",
     "text": [
      "[2024-07-04 16:12:22] [ERROR]  Network error occurred: Connection failed\n"
     ]
    },
    {
     "name": "stdout",
     "output_type": "stream",
     "text": [
      "Received data: some data\n",
      "API Error: Failed to connect to API\n",
      "Caused by: NetworkError: Connection failed\n"
     ]
    }
   ],
   "source": [
    "class APIError(Exception):\n",
    "    \"\"\"Base exception for API errors\"\"\"\n",
    "\n",
    "    pass\n",
    "\n",
    "\n",
    "class NetworkError(APIError):\n",
    "    \"\"\"Raised when a network operation fails\"\"\"\n",
    "\n",
    "    pass\n",
    "\n",
    "\n",
    "class DataParsingError(APIError):\n",
    "    \"\"\"Raised when parsing API response fails\"\"\"\n",
    "\n",
    "    pass\n",
    "\n",
    "\n",
    "def api_request(endpoint):\n",
    "    # Simulating an API request\n",
    "    if endpoint == \"error\":\n",
    "        raise NetworkError(\"Connection failed\")\n",
    "    return {\"data\": \"some data\"}\n",
    "\n",
    "\n",
    "def parse_response(response):\n",
    "    # Simulating response parsing\n",
    "    if \"error\" in response:\n",
    "        raise DataParsingError(\"Invalid response format\")\n",
    "    return response[\"data\"]\n",
    "\n",
    "\n",
    "def get_api_data(endpoint):\n",
    "    try:\n",
    "        response = api_request(endpoint)\n",
    "        data = parse_response(response)\n",
    "        return data\n",
    "    except NetworkError as e:\n",
    "        logger.error(f\"Network error occurred: {e}\")\n",
    "        raise APIError(\"Failed to connect to API\") from e\n",
    "    except DataParsingError as e:\n",
    "        logger.error(f\"Data parsing error occurred: {e}\")\n",
    "        raise APIError(\"Failed to parse API response\") from e\n",
    "    except Exception as e:\n",
    "        logger.critical(f\"Unexpected error in get_api_data: {e}\")\n",
    "        raise APIError(\"An unexpected error occurred\") from e\n",
    "\n",
    "\n",
    "try:\n",
    "    data = get_api_data(\"valid_endpoint\")\n",
    "    print(f\"Received data: {data}\")\n",
    "    data = get_api_data(\"error\")\n",
    "except APIError as e:\n",
    "    print(f\"API Error: {e}\")\n",
    "    if e.__cause__:\n",
    "        print(f\"Caused by: {type(e.__cause__).__name__}: {e.__cause__}\")"
   ]
  },
  {
   "cell_type": "markdown",
   "metadata": {},
   "source": [
    "## Conclusion\n",
    "\n",
    "This tutorial covered various aspects of error handling in Python:\n",
    "1. We started with basic try-except blocks.\n",
    "2. We created custom exception hierarchies for more specific error handling.\n",
    "3. We explored exception propagation through function calls.\n",
    "4. We incorporated logging to provide more context for errors.\n",
    "5. Finally, we looked at best practices and common patterns in error handling.\n",
    "\n",
    "Remember these key points:\n",
    "- Use specific exceptions when possible.\n",
    "- Create custom exceptions for your application's specific needs.\n",
    "- Log errors with appropriate severity levels.\n",
    "- Use `raise ... from e` to preserve the original error context.\n",
    "- Handle exceptions at the appropriate level in your application.\n",
    "\n",
    "Proper error handling makes your code more robust, easier to debug, and provides a better experience for users of your application."
   ]
  }
 ],
 "metadata": {
  "kernelspec": {
   "display_name": "Python 3",
   "language": "python",
   "name": "python3"
  },
  "language_info": {
   "codemirror_mode": {
    "name": "ipython",
    "version": 3
   },
   "file_extension": ".py",
   "mimetype": "text/x-python",
   "name": "python",
   "nbconvert_exporter": "python",
   "pygments_lexer": "ipython3",
   "version": "3.12.3"
  }
 },
 "nbformat": 4,
 "nbformat_minor": 4
}
