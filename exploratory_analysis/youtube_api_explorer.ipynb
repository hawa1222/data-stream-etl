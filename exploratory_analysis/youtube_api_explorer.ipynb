{
 "cells": [
  {
   "cell_type": "code",
   "execution_count": 1,
   "metadata": {},
   "outputs": [
    {
     "name": "stdout",
     "output_type": "stream",
     "text": [
      "Data Type: channels\n",
      "API Type: channels\n",
      "Parameters: {'id': 'UCjCBfi9gMp0tFlaDzDiu_iQ', 'part': 'snippet', 'maxResults': 50}\n",
      "---\n",
      "Data Type: subs\n",
      "API Type: subscriptions\n",
      "Parameters: {'mine': True, 'part': 'snippet', 'maxResults': 50}\n",
      "---\n",
      "Data Type: likes\n",
      "API Type: playlistItems\n",
      "Parameters: {'playlistId': 'LLjCBfi9gMp0tFlaDzDiu_iQ', 'part': 'snippet', 'maxResults': 50}\n",
      "---\n"
     ]
    }
   ],
   "source": [
    "API_CALL_PARAMS = {\n",
    "    \"channels\": {\n",
    "        \"api_endpoint\": \"channels\",\n",
    "        \"parameters\": {\n",
    "            \"id\": \"UCjCBfi9gMp0tFlaDzDiu_iQ\",\n",
    "            \"part\": \"snippet\",\n",
    "            \"maxResults\": 50,\n",
    "        },\n",
    "    },\n",
    "    \"subs\": {\n",
    "        \"api_endpoint\": \"subscriptions\",\n",
    "        \"parameters\": {\"mine\": True, \"part\": \"snippet\", \"maxResults\": 50},\n",
    "    },\n",
    "    \"likes\": {\n",
    "        \"api_endpoint\": \"playlistItems\",\n",
    "        \"parameters\": {\n",
    "            \"playlistId\": \"LLjCBfi9gMp0tFlaDzDiu_iQ\",\n",
    "            \"part\": \"snippet\",\n",
    "            \"maxResults\": 50,\n",
    "        },\n",
    "    },\n",
    "}\n",
    "\n",
    "for data_type, config in API_CALL_PARAMS.items():\n",
    "    api_type = config[\"api_endpoint\"]\n",
    "    parameters = config[\"parameters\"]\n",
    "\n",
    "    print(f\"Data Type: {data_type}\")\n",
    "    print(f\"API Type: {api_type}\")\n",
    "    print(f\"Parameters: {parameters}\")\n",
    "    print(\"---\")"
   ]
  },
  {
   "cell_type": "code",
   "execution_count": null,
   "metadata": {},
   "outputs": [],
   "source": []
  }
 ],
 "metadata": {
  "kernelspec": {
   "display_name": "etlenv",
   "language": "python",
   "name": "python3"
  },
  "language_info": {
   "codemirror_mode": {
    "name": "ipython",
    "version": 3
   },
   "file_extension": ".py",
   "mimetype": "text/x-python",
   "name": "python",
   "nbconvert_exporter": "python",
   "pygments_lexer": "ipython3",
   "version": "3.11.5"
  }
 },
 "nbformat": 4,
 "nbformat_minor": 2
}
