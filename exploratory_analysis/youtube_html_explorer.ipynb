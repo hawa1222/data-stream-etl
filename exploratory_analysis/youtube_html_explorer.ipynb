{
 "cells": [
  {
   "cell_type": "markdown",
   "metadata": {},
   "source": [
    "## HTML Structure\n",
    "\n",
    "* Each activity (like, dislike, or subscription) is contained within a div with the class \"content-cell mdl-cell mdl-cell--6-col mdl-typography--body-1\".\n",
    "* Inside this div, we have the activity type (Liked, Subscribed), followed by the video/channel title, channel name, and date.\n",
    "* The video/channel title and channel name are wrapped in `<a>` tags, which contain the URLs.\n",
    "\n",
    "## divs\n",
    "\n",
    "* In HTML, div elements are used to create sections or containers. Here, each div represents a single activity entry.\n",
    "* The classes applied to these divs (mdl-cell, etc.) suggest this is using the Material Design Lite framework for styling.\n"
   ]
  },
  {
   "cell_type": "code",
   "execution_count": 1,
   "metadata": {},
   "outputs": [],
   "source": [
    "from collections import Counter\n",
    "\n",
    "from utility.logging import setup_logging\n",
    "from constants import FileDirectory, Google\n",
    "from utility.file_manager import FileManager\n",
    "\n",
    "logger = setup_logging()"
   ]
  },
  {
   "cell_type": "code",
   "execution_count": 4,
   "metadata": {},
   "outputs": [],
   "source": [
    "def analyse_activity_types(soup):\n",
    "    \"\"\"Analyses the activity types of user and returns a dictionary with activity types and their counts\"\"\"\n",
    "    activity_elements = soup.find_all(\n",
    "        \"div\", class_=\"content-cell mdl-cell mdl-cell--6-col mdl-typography--body-1\"\n",
    "    )\n",
    "    activity_types = Counter()\n",
    "\n",
    "    for element in activity_elements:\n",
    "        activity_type = element.contents[0].strip()\n",
    "        activity_types[activity_type] += 1\n",
    "\n",
    "    return dict(activity_types)"
   ]
  },
  {
   "cell_type": "code",
   "execution_count": 5,
   "metadata": {},
   "outputs": [
    {
     "name": "stderr",
     "output_type": "stream",
     "text": [
      "[2024-06-28 12:19:30] [INFO]  Successfully loaded file from /Users/hadid/Library/Mobile Documents/com~apple~CloudDocs/Shared/ETL/MyActivity.html\n",
      "[2024-06-28 12:19:30] [INFO]  Activity types found: {'Liked': 9568, 'Subscribed to': 668, 'Disliked': 265, 'Voted on': 194, 'Saved': 2, 'Voted on a post that is no longer available': 2}\n"
     ]
    }
   ],
   "source": [
    "file_manager = FileManager()\n",
    "soup = file_manager.load_file(FileDirectory.MANUAL_EXPORT_PATH, Google.RAW_HTML_DATA)\n",
    "\n",
    "activity_types = analyse_activity_types(soup)\n",
    "logger.info(f\"Activity types found: {activity_types}\")"
   ]
  },
  {
   "cell_type": "code",
   "execution_count": null,
   "metadata": {},
   "outputs": [],
   "source": []
  }
 ],
 "metadata": {
  "kernelspec": {
   "display_name": "etlenv",
   "language": "python",
   "name": "python3"
  },
  "language_info": {
   "codemirror_mode": {
    "name": "ipython",
    "version": 3
   },
   "file_extension": ".py",
   "mimetype": "text/x-python",
   "name": "python",
   "nbconvert_exporter": "python",
   "pygments_lexer": "ipython3",
   "version": "3.12.3"
  }
 },
 "nbformat": 4,
 "nbformat_minor": 2
}
