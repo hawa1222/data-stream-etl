{
 "cells": [
  {
   "cell_type": "code",
   "execution_count": 1,
   "metadata": {},
   "outputs": [],
   "source": [
    "import pandas as pd\n",
    "from utility import cache_data, upload_data_s3"
   ]
  },
  {
   "cell_type": "code",
   "execution_count": 3,
   "metadata": {},
   "outputs": [
    {
     "name": "stdout",
     "output_type": "stream",
     "text": [
      "<class 'pandas.core.frame.DataFrame'>\n",
      "RangeIndex: 1231 entries, 0 to 1230\n",
      "Data columns (total 94 columns):\n",
      " #   Column                                           Non-Null Count  Dtype  \n",
      "---  ------                                           --------------  -----  \n",
      " 0   resource_state                                   1231 non-null   int64  \n",
      " 1   name                                             1231 non-null   object \n",
      " 2   distance                                         1231 non-null   float64\n",
      " 3   moving_time                                      1231 non-null   int64  \n",
      " 4   elapsed_time                                     1231 non-null   int64  \n",
      " 5   total_elevation_gain                             1231 non-null   float64\n",
      " 6   type                                             1231 non-null   object \n",
      " 7   sport_type                                       1231 non-null   object \n",
      " 8   workout_type                                     120 non-null    float64\n",
      " 9   id                                               1231 non-null   int64  \n",
      " 10  start_date                                       1231 non-null   object \n",
      " 11  start_date_local                                 1231 non-null   object \n",
      " 12  timezone                                         1231 non-null   object \n",
      " 13  utc_offset                                       1231 non-null   int64  \n",
      " 14  location_city                                    0 non-null      float64\n",
      " 15  location_state                                   0 non-null      float64\n",
      " 16  location_country                                 0 non-null      float64\n",
      " 17  achievement_count                                1231 non-null   int64  \n",
      " 18  kudos_count                                      1231 non-null   int64  \n",
      " 19  comment_count                                    1231 non-null   int64  \n",
      " 20  athlete_count                                    1231 non-null   int64  \n",
      " 21  photo_count                                      1231 non-null   int64  \n",
      " 22  trainer                                          1231 non-null   bool   \n",
      " 23  commute                                          1231 non-null   bool   \n",
      " 24  manual                                           1231 non-null   bool   \n",
      " 25  private                                          1231 non-null   bool   \n",
      " 26  visibility                                       1231 non-null   object \n",
      " 27  flagged                                          1231 non-null   bool   \n",
      " 28  gear_id                                          696 non-null    object \n",
      " 29  start_latlng                                     1231 non-null   object \n",
      " 30  end_latlng                                       1231 non-null   object \n",
      " 31  average_speed                                    1231 non-null   float64\n",
      " 32  max_speed                                        1231 non-null   float64\n",
      " 33  has_heartrate                                    1231 non-null   bool   \n",
      " 34  average_heartrate                                967 non-null    float64\n",
      " 35  max_heartrate                                    967 non-null    float64\n",
      " 36  heartrate_opt_out                                1231 non-null   bool   \n",
      " 37  display_hide_heartrate_option                    1231 non-null   bool   \n",
      " 38  elev_high                                        1054 non-null   float64\n",
      " 39  elev_low                                         1054 non-null   float64\n",
      " 40  upload_id                                        1220 non-null   float64\n",
      " 41  upload_id_str                                    1220 non-null   float64\n",
      " 42  external_id                                      1220 non-null   object \n",
      " 43  from_accepted_tag                                1231 non-null   bool   \n",
      " 44  pr_count                                         1231 non-null   int64  \n",
      " 45  total_photo_count                                1231 non-null   int64  \n",
      " 46  has_kudoed                                       1231 non-null   bool   \n",
      " 47  suffer_score                                     968 non-null    float64\n",
      " 48  description                                      10 non-null     object \n",
      " 49  calories                                         1231 non-null   float64\n",
      " 50  perceived_exertion                               6 non-null      float64\n",
      " 51  prefer_perceived_exertion                        78 non-null     float64\n",
      " 52  segment_efforts                                  1231 non-null   object \n",
      " 53  splits_metric                                    898 non-null    object \n",
      " 54  splits_standard                                  898 non-null    object \n",
      " 55  laps                                             1220 non-null   object \n",
      " 56  best_efforts                                     568 non-null    object \n",
      " 57  stats_visibility                                 1231 non-null   object \n",
      " 58  hide_from_home                                   1231 non-null   bool   \n",
      " 59  device_name                                      757 non-null    object \n",
      " 60  embed_token                                      1231 non-null   object \n",
      " 61  available_zones                                  1231 non-null   object \n",
      " 62  athlete.id                                       1231 non-null   int64  \n",
      " 63  athlete.resource_state                           1231 non-null   int64  \n",
      " 64  map.id                                           1231 non-null   object \n",
      " 65  map.polyline                                     896 non-null    object \n",
      " 66  map.resource_state                               1231 non-null   int64  \n",
      " 67  map.summary_polyline                             4 non-null      object \n",
      " 68  gear.id                                          696 non-null    object \n",
      " 69  gear.primary                                     676 non-null    float64\n",
      " 70  gear.name                                        696 non-null    object \n",
      " 71  gear.nickname                                    17 non-null     object \n",
      " 72  gear.resource_state                              696 non-null    float64\n",
      " 73  gear.retired                                     696 non-null    float64\n",
      " 74  gear.distance                                    696 non-null    float64\n",
      " 75  gear.converted_distance                          696 non-null    float64\n",
      " 76  photos.primary                                   20 non-null     float64\n",
      " 77  photos.count                                     1231 non-null   int64  \n",
      " 78  similar_activities.effort_count                  567 non-null    float64\n",
      " 79  similar_activities.average_speed                 567 non-null    float64\n",
      " 80  similar_activities.min_average_speed             567 non-null    float64\n",
      " 81  similar_activities.mid_average_speed             567 non-null    float64\n",
      " 82  similar_activities.max_average_speed             567 non-null    float64\n",
      " 83  similar_activities.pr_rank                       121 non-null    float64\n",
      " 84  similar_activities.frequency_milestone           35 non-null     float64\n",
      " 85  similar_activities.trend.speeds                  567 non-null    object \n",
      " 86  similar_activities.trend.current_activity_index  553 non-null    float64\n",
      " 87  similar_activities.trend.min_speed               567 non-null    float64\n",
      " 88  similar_activities.trend.mid_speed               567 non-null    float64\n",
      " 89  similar_activities.trend.max_speed               567 non-null    float64\n",
      " 90  similar_activities.trend.direction               567 non-null    float64\n",
      " 91  similar_activities.resource_state                567 non-null    float64\n",
      " 92  average_cadence                                  164 non-null    float64\n",
      " 93  private_note                                     4 non-null      object \n",
      "dtypes: bool(11), float64(38), int64(16), object(29)\n",
      "memory usage: 811.6+ KB\n"
     ]
    }
   ],
   "source": [
    "### Load Strava Data\n",
    "\n",
    "data_path = \"/Users/hadid/GitHub/ETL/data/raw_data/strava_data.xlsx\"\n",
    "strava_data = pd.read_excel(data_path)\n",
    "strava_data.info()"
   ]
  },
  {
   "cell_type": "code",
   "execution_count": 9,
   "metadata": {},
   "outputs": [
    {
     "name": "stderr",
     "output_type": "stream",
     "text": [
      "[2024-06-12 17:58:22] [INFO]  Starting upload to S3 bucket: etl-5h3gn2wqhzfd, data source: strava_activity_data\n",
      "[2024-06-12 17:58:26] [INFO]  DataFrame uploaded to S3 bucket 'etl-5h3gn2wqhzfd' as 'strava/strava_activity_data_2024-06-12_17-58-22.csv'\n"
     ]
    },
    {
     "data": {
      "text/plain": [
       "True"
      ]
     },
     "execution_count": 9,
     "metadata": {},
     "output_type": "execute_result"
    }
   ],
   "source": [
    "upload_data_s3.post_data_to_s3(strava_data, \"strava_activity_data\")"
   ]
  },
  {
   "cell_type": "code",
   "execution_count": 4,
   "metadata": {},
   "outputs": [
    {
     "name": "stdout",
     "output_type": "stream",
     "text": [
      "0    11715123516\n",
      "1    11714332345\n",
      "2    11714332359\n",
      "3    11706971235\n",
      "4    11706971242\n",
      "Name: id, dtype: int64\n",
      "0       11715123516\n",
      "1       11714332345\n",
      "2       11714332359\n",
      "3       11706971235\n",
      "4       11706971242\n",
      "           ...     \n",
      "1226     7613744359\n",
      "1227     7613744403\n",
      "1228     7613744400\n",
      "1229     7613744405\n",
      "1230     7613744483\n",
      "Name: id, Length: 1231, dtype: int64\n",
      "<class 'pandas.core.series.Series'>\n"
     ]
    }
   ],
   "source": [
    "### Save IDs to Redis\n",
    "\n",
    "# Extract activity IDs\n",
    "print(strava_data[\"id\"].head())\n",
    "activity_ids = strava_data[\"id\"]\n",
    "print(activity_ids)\n",
    "print(type(activity_ids))"
   ]
  },
  {
   "cell_type": "code",
   "execution_count": 5,
   "metadata": {},
   "outputs": [
    {
     "name": "stderr",
     "output_type": "stream",
     "text": [
      "[2024-06-24 17:05:52] [INFO]  Updating cached strava_activity_ids in Redis...\n",
      "[2024-06-24 17:05:52] [INFO]  Successfully updated cached strava_activity_ids, added 1231 new IDs\n"
     ]
    }
   ],
   "source": [
    "# Cache activity IDs in Redis\n",
    "cache_data.cache_ids(\"strava_activity_ids\", activity_ids)"
   ]
  },
  {
   "cell_type": "code",
   "execution_count": 7,
   "metadata": {},
   "outputs": [
    {
     "name": "stderr",
     "output_type": "stream",
     "text": [
      "[2024-06-24 17:06:26] [INFO]  Fetching cached strava_activity_ids from Redis...\n",
      "[2024-06-24 17:06:26] [INFO]  Successfully fetched 1231 IDs\n"
     ]
    },
    {
     "name": "stdout",
     "output_type": "stream",
     "text": [
      "1231\n"
     ]
    }
   ],
   "source": [
    "# Initialise cache and get cached activity IDs from Redis\n",
    "cached_ids = cache_data.get_cached_ids(\"strava_activity_ids\")\n",
    "print(len(cached_ids))\n",
    "# print(f\"Cached activity IDs: {cached_ids}\")\n",
    "# print(f\"Data Type: {type(cached_ids)}\")"
   ]
  },
  {
   "cell_type": "code",
   "execution_count": null,
   "metadata": {},
   "outputs": [],
   "source": []
  }
 ],
 "metadata": {
  "kernelspec": {
   "display_name": "etlenv",
   "language": "python",
   "name": "python3"
  },
  "language_info": {
   "codemirror_mode": {
    "name": "ipython",
    "version": 3
   },
   "file_extension": ".py",
   "mimetype": "text/x-python",
   "name": "python",
   "nbconvert_exporter": "python",
   "pygments_lexer": "ipython3",
   "version": "3.11.5"
  }
 },
 "nbformat": 4,
 "nbformat_minor": 2
}
