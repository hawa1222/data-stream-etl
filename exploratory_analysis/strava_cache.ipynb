{
 "cells": [
  {
   "cell_type": "code",
   "execution_count": 16,
   "metadata": {},
   "outputs": [],
   "source": [
    "from constants import FileDirectory, StravaAPI\n",
    "from utility import redis_manager, s3_manager\n",
    "from utility.file_manager import FileManager"
   ]
  },
  {
   "cell_type": "code",
   "execution_count": 17,
   "metadata": {},
   "outputs": [
    {
     "name": "stderr",
     "output_type": "stream",
     "text": [
      "[2024-07-05 17:45:19] [INFO]  Successfully loaded file from /Users/hadid/GitHub/ETL/data/raw_data/strava_activity_data.xlsx\n"
     ]
    },
    {
     "name": "stdout",
     "output_type": "stream",
     "text": [
      "<class 'pandas.core.frame.DataFrame'>\n",
      "RangeIndex: 1246 entries, 0 to 1245\n",
      "Data columns (total 94 columns):\n",
      " #   Column                                           Non-Null Count  Dtype  \n",
      "---  ------                                           --------------  -----  \n",
      " 0   resource_state                                   1246 non-null   int64  \n",
      " 1   name                                             1246 non-null   object \n",
      " 2   distance                                         1246 non-null   float64\n",
      " 3   moving_time                                      1246 non-null   int64  \n",
      " 4   elapsed_time                                     1246 non-null   int64  \n",
      " 5   total_elevation_gain                             1246 non-null   float64\n",
      " 6   type                                             1246 non-null   object \n",
      " 7   sport_type                                       1246 non-null   object \n",
      " 8   workout_type                                     120 non-null    float64\n",
      " 9   id                                               1246 non-null   int64  \n",
      " 10  start_date                                       1246 non-null   object \n",
      " 11  start_date_local                                 1246 non-null   object \n",
      " 12  timezone                                         1246 non-null   object \n",
      " 13  utc_offset                                       1246 non-null   int64  \n",
      " 14  location_city                                    0 non-null      float64\n",
      " 15  location_state                                   0 non-null      float64\n",
      " 16  location_country                                 0 non-null      float64\n",
      " 17  achievement_count                                1246 non-null   int64  \n",
      " 18  kudos_count                                      1246 non-null   int64  \n",
      " 19  comment_count                                    1246 non-null   int64  \n",
      " 20  athlete_count                                    1246 non-null   int64  \n",
      " 21  photo_count                                      1246 non-null   int64  \n",
      " 22  trainer                                          1246 non-null   bool   \n",
      " 23  commute                                          1246 non-null   bool   \n",
      " 24  manual                                           1246 non-null   bool   \n",
      " 25  private                                          1246 non-null   bool   \n",
      " 26  visibility                                       1246 non-null   object \n",
      " 27  flagged                                          1246 non-null   bool   \n",
      " 28  gear_id                                          706 non-null    object \n",
      " 29  start_latlng                                     1246 non-null   object \n",
      " 30  end_latlng                                       1246 non-null   object \n",
      " 31  average_speed                                    1246 non-null   float64\n",
      " 32  max_speed                                        1246 non-null   float64\n",
      " 33  has_heartrate                                    1246 non-null   bool   \n",
      " 34  average_heartrate                                982 non-null    float64\n",
      " 35  max_heartrate                                    982 non-null    float64\n",
      " 36  heartrate_opt_out                                1246 non-null   bool   \n",
      " 37  display_hide_heartrate_option                    1246 non-null   bool   \n",
      " 38  elev_high                                        1069 non-null   float64\n",
      " 39  elev_low                                         1069 non-null   float64\n",
      " 40  upload_id                                        1235 non-null   float64\n",
      " 41  upload_id_str                                    1235 non-null   float64\n",
      " 42  external_id                                      1235 non-null   object \n",
      " 43  from_accepted_tag                                1246 non-null   bool   \n",
      " 44  pr_count                                         1246 non-null   int64  \n",
      " 45  total_photo_count                                1246 non-null   int64  \n",
      " 46  has_kudoed                                       1246 non-null   bool   \n",
      " 47  suffer_score                                     983 non-null    float64\n",
      " 48  description                                      10 non-null     object \n",
      " 49  calories                                         1246 non-null   float64\n",
      " 50  perceived_exertion                               6 non-null      float64\n",
      " 51  prefer_perceived_exertion                        78 non-null     float64\n",
      " 52  segment_efforts                                  1246 non-null   object \n",
      " 53  splits_metric                                    908 non-null    object \n",
      " 54  splits_standard                                  908 non-null    object \n",
      " 55  laps                                             1235 non-null   object \n",
      " 56  best_efforts                                     571 non-null    object \n",
      " 57  stats_visibility                                 1246 non-null   object \n",
      " 58  hide_from_home                                   1246 non-null   bool   \n",
      " 59  device_name                                      773 non-null    object \n",
      " 60  embed_token                                      1246 non-null   object \n",
      " 61  available_zones                                  1246 non-null   object \n",
      " 62  athlete.id                                       1246 non-null   int64  \n",
      " 63  athlete.resource_state                           1246 non-null   int64  \n",
      " 64  map.id                                           1246 non-null   object \n",
      " 65  map.polyline                                     906 non-null    object \n",
      " 66  map.resource_state                               1246 non-null   int64  \n",
      " 67  map.summary_polyline                             4 non-null      object \n",
      " 68  gear.id                                          706 non-null    object \n",
      " 69  gear.primary                                     686 non-null    float64\n",
      " 70  gear.name                                        706 non-null    object \n",
      " 71  gear.nickname                                    17 non-null     object \n",
      " 72  gear.resource_state                              706 non-null    float64\n",
      " 73  gear.retired                                     706 non-null    float64\n",
      " 74  gear.distance                                    706 non-null    float64\n",
      " 75  gear.converted_distance                          706 non-null    float64\n",
      " 76  photos.primary                                   20 non-null     float64\n",
      " 77  photos.count                                     1246 non-null   int64  \n",
      " 78  similar_activities.effort_count                  570 non-null    float64\n",
      " 79  similar_activities.average_speed                 570 non-null    float64\n",
      " 80  similar_activities.min_average_speed             570 non-null    float64\n",
      " 81  similar_activities.mid_average_speed             570 non-null    float64\n",
      " 82  similar_activities.max_average_speed             570 non-null    float64\n",
      " 83  similar_activities.pr_rank                       121 non-null    float64\n",
      " 84  similar_activities.frequency_milestone           35 non-null     float64\n",
      " 85  similar_activities.trend.speeds                  570 non-null    object \n",
      " 86  similar_activities.trend.current_activity_index  556 non-null    float64\n",
      " 87  similar_activities.trend.min_speed               570 non-null    float64\n",
      " 88  similar_activities.trend.mid_speed               570 non-null    float64\n",
      " 89  similar_activities.trend.max_speed               570 non-null    float64\n",
      " 90  similar_activities.trend.direction               570 non-null    float64\n",
      " 91  similar_activities.resource_state                570 non-null    float64\n",
      " 92  average_cadence                                  163 non-null    float64\n",
      " 93  private_note                                     4 non-null      object \n",
      "dtypes: bool(11), float64(38), int64(16), object(29)\n",
      "memory usage: 821.5+ KB\n"
     ]
    }
   ],
   "source": [
    "file_manager = FileManager()\n",
    "strava_data = file_manager.load_file(FileDirectory.RAW_DATA_PATH, StravaAPI.DATA_KEY)\n",
    "strava_data.info()"
   ]
  },
  {
   "cell_type": "code",
   "execution_count": 18,
   "metadata": {},
   "outputs": [
    {
     "name": "stdout",
     "output_type": "stream",
     "text": [
      "ID Data Type: <class 'pandas.core.series.Series'> \n",
      "\n",
      "ID Sample: \n",
      " 0    11715123516\n",
      "1    11714332345\n",
      "2    11714332359\n",
      "Name: id, dtype: int64\n",
      "ID Count: 1246 \n",
      "\n"
     ]
    }
   ],
   "source": [
    "# Extract IDs\n",
    "activity_ids = strava_data[\"id\"]\n",
    "print(f\"ID Data Type: {type(activity_ids)} \\n\")\n",
    "print(f\"ID Sample: \\n {activity_ids.head(3)}\")\n",
    "print(f\"ID Count: {activity_ids.count()} \\n\")"
   ]
  },
  {
   "cell_type": "code",
   "execution_count": 19,
   "metadata": {},
   "outputs": [
    {
     "name": "stderr",
     "output_type": "stream",
     "text": [
      "[2024-07-05 17:45:19] [INFO]  Updating 'strava_activity_ids' cache in Redis...\n",
      "[2024-07-05 17:45:19] [INFO]  Successfully updated cached IDs, added 1246 new IDs\n"
     ]
    }
   ],
   "source": [
    "# Cache IDs\n",
    "redis_manager.update_cached_ids(StravaAPI.ID_KEY, activity_ids)"
   ]
  },
  {
   "cell_type": "code",
   "execution_count": 10,
   "metadata": {},
   "outputs": [
    {
     "name": "stderr",
     "output_type": "stream",
     "text": [
      "[2024-07-05 14:34:47] [INFO]  Fetching 'strava_activity_ids' cache from Redis...\n",
      "[2024-07-05 14:34:47] [INFO]  Successfully fetched 1247 IDs\n"
     ]
    },
    {
     "name": "stdout",
     "output_type": "stream",
     "text": [
      "\n",
      "Count of cached IDs: 1247\n",
      "\n",
      "ID Data Type: <class 'set'>\n"
     ]
    }
   ],
   "source": [
    "# Get cached IDs\n",
    "cached_ids = redis_manager.get_cached_ids(StravaAPI.ID_KEY)\n",
    "print(f\"\\nCount of cached IDs: {len(cached_ids)}\\n\")\n",
    "print(f\"ID Data Type: {type(cached_ids)}\")"
   ]
  },
  {
   "cell_type": "markdown",
   "metadata": {},
   "source": [
    "# Redis | Delete Values"
   ]
  },
  {
   "cell_type": "code",
   "execution_count": 2,
   "metadata": {},
   "outputs": [
    {
     "name": "stderr",
     "output_type": "stream",
     "text": [
      "[2024-07-05 15:16:23] [INFO]  Successfully deleted 4 values from the set\n"
     ]
    }
   ],
   "source": [
    "# Delete cached IDs\n",
    "activity_ids = [11802227853, 11809701909, 11802227882, 11802227944]\n",
    "redis_manager.delete_cache_values(StravaAPI.ID_KEY, activity_ids)"
   ]
  },
  {
   "cell_type": "markdown",
   "metadata": {},
   "source": [
    "# S3"
   ]
  },
  {
   "cell_type": "code",
   "execution_count": 9,
   "metadata": {},
   "outputs": [
    {
     "name": "stderr",
     "output_type": "stream",
     "text": [
      "[2024-06-12 17:58:22] [INFO]  Starting upload to S3 bucket: etl-5h3gn2wqhzfd, data source: strava_activity_data\n",
      "[2024-06-12 17:58:26] [INFO]  DataFrame uploaded to S3 bucket 'etl-5h3gn2wqhzfd' as 'strava/strava_activity_data_2024-06-12_17-58-22.csv'\n"
     ]
    },
    {
     "data": {
      "text/plain": [
       "True"
      ]
     },
     "execution_count": 9,
     "metadata": {},
     "output_type": "execute_result"
    }
   ],
   "source": [
    "s3_manager.post_data_to_s3(strava_data, \"strava_activity_data\")"
   ]
  }
 ],
 "metadata": {
  "kernelspec": {
   "display_name": "etlenv",
   "language": "python",
   "name": "python3"
  },
  "language_info": {
   "codemirror_mode": {
    "name": "ipython",
    "version": 3
   },
   "file_extension": ".py",
   "mimetype": "text/x-python",
   "name": "python",
   "nbconvert_exporter": "python",
   "pygments_lexer": "ipython3",
   "version": "3.12.3"
  }
 },
 "nbformat": 4,
 "nbformat_minor": 2
}
