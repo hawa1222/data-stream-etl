{
 "cells": [
  {
   "cell_type": "code",
   "execution_count": 51,
   "metadata": {},
   "outputs": [],
   "source": [
    "from constants import FileDirectory, Spend\n",
    "from utility.file_manager import FileManager\n",
    "from utility.log_manager import setup_logging\n",
    "\n",
    "logger = setup_logging()\n",
    "\n",
    "file_manager = FileManager()"
   ]
  },
  {
   "cell_type": "code",
   "execution_count": 52,
   "metadata": {},
   "outputs": [
    {
     "name": "stderr",
     "output_type": "stream",
     "text": [
      "[2024-07-03 14:24:22] [INFO]  Successfully loaded file from /Users/hadid/Library/Mobile Documents/com~apple~CloudDocs/Shared/ETL/Budget.xlsm\n"
     ]
    }
   ],
   "source": [
    "spend_data = file_manager.load_file(\n",
    "    FileDirectory.SOURCE_DATA_PATH, Spend.RAW_DATA, sheet_name=Spend.RAW_SHEET_NAME\n",
    ")"
   ]
  },
  {
   "cell_type": "code",
   "execution_count": 54,
   "metadata": {},
   "outputs": [
    {
     "name": "stdout",
     "output_type": "stream",
     "text": [
      "<class 'pandas.core.frame.DataFrame'>\n",
      "RangeIndex: 3372 entries, 0 to 3371\n",
      "Data columns (total 8 columns):\n",
      " #   Column          Non-Null Count  Dtype         \n",
      "---  ------          --------------  -----         \n",
      " 0   Transaction ID  3372 non-null   int64         \n",
      " 1   Category A      3365 non-null   object        \n",
      " 2   Category B      3365 non-null   object        \n",
      " 3   Outlet          3365 non-null   object        \n",
      " 4   Description     1675 non-null   object        \n",
      " 5   Amount          3365 non-null   float64       \n",
      " 6   Date            3365 non-null   datetime64[ns]\n",
      " 7   Period          2024 non-null   object        \n",
      "dtypes: datetime64[ns](1), float64(1), int64(1), object(5)\n",
      "memory usage: 210.9+ KB\n"
     ]
    },
    {
     "data": {
      "text/html": [
       "<div>\n",
       "<style scoped>\n",
       "    .dataframe tbody tr th:only-of-type {\n",
       "        vertical-align: middle;\n",
       "    }\n",
       "\n",
       "    .dataframe tbody tr th {\n",
       "        vertical-align: top;\n",
       "    }\n",
       "\n",
       "    .dataframe thead th {\n",
       "        text-align: right;\n",
       "    }\n",
       "</style>\n",
       "<table border=\"1\" class=\"dataframe\">\n",
       "  <thead>\n",
       "    <tr style=\"text-align: right;\">\n",
       "      <th></th>\n",
       "      <th>Transaction ID</th>\n",
       "      <th>Category A</th>\n",
       "      <th>Category B</th>\n",
       "      <th>Outlet</th>\n",
       "      <th>Description</th>\n",
       "      <th>Amount</th>\n",
       "      <th>Date</th>\n",
       "      <th>Period</th>\n",
       "    </tr>\n",
       "  </thead>\n",
       "  <tbody>\n",
       "    <tr>\n",
       "      <th>0</th>\n",
       "      <td>3372</td>\n",
       "      <td>Finance</td>\n",
       "      <td>Round-Up</td>\n",
       "      <td>Chase</td>\n",
       "      <td>NaN</td>\n",
       "      <td>-5.57</td>\n",
       "      <td>2024-06-02</td>\n",
       "      <td>2024-06</td>\n",
       "    </tr>\n",
       "  </tbody>\n",
       "</table>\n",
       "</div>"
      ],
      "text/plain": [
       "   Transaction ID Category A Category B Outlet Description  Amount       Date  \\\n",
       "0            3372    Finance   Round-Up  Chase         NaN   -5.57 2024-06-02   \n",
       "\n",
       "    Period  \n",
       "0  2024-06  "
      ]
     },
     "execution_count": 54,
     "metadata": {},
     "output_type": "execute_result"
    }
   ],
   "source": [
    "spend_data.info()\n",
    "spend_data.head(1)"
   ]
  },
  {
   "cell_type": "code",
   "execution_count": 55,
   "metadata": {},
   "outputs": [],
   "source": [
    "# Assuming your DataFrame is called 'df'\n",
    "spend_data[\"Date\"] = spend_data[\"Date\"].dt.date"
   ]
  },
  {
   "cell_type": "code",
   "execution_count": 56,
   "metadata": {},
   "outputs": [
    {
     "name": "stdout",
     "output_type": "stream",
     "text": [
      "<class 'pandas.core.frame.DataFrame'>\n",
      "RangeIndex: 3372 entries, 0 to 3371\n",
      "Data columns (total 8 columns):\n",
      " #   Column          Non-Null Count  Dtype  \n",
      "---  ------          --------------  -----  \n",
      " 0   Transaction ID  3372 non-null   int64  \n",
      " 1   Category A      3365 non-null   object \n",
      " 2   Category B      3365 non-null   object \n",
      " 3   Outlet          3365 non-null   object \n",
      " 4   Description     1675 non-null   object \n",
      " 5   Amount          3365 non-null   float64\n",
      " 6   Date            3365 non-null   object \n",
      " 7   Period          2024 non-null   object \n",
      "dtypes: float64(1), int64(1), object(6)\n",
      "memory usage: 210.9+ KB\n"
     ]
    },
    {
     "data": {
      "text/html": [
       "<div>\n",
       "<style scoped>\n",
       "    .dataframe tbody tr th:only-of-type {\n",
       "        vertical-align: middle;\n",
       "    }\n",
       "\n",
       "    .dataframe tbody tr th {\n",
       "        vertical-align: top;\n",
       "    }\n",
       "\n",
       "    .dataframe thead th {\n",
       "        text-align: right;\n",
       "    }\n",
       "</style>\n",
       "<table border=\"1\" class=\"dataframe\">\n",
       "  <thead>\n",
       "    <tr style=\"text-align: right;\">\n",
       "      <th></th>\n",
       "      <th>Transaction ID</th>\n",
       "      <th>Category A</th>\n",
       "      <th>Category B</th>\n",
       "      <th>Outlet</th>\n",
       "      <th>Description</th>\n",
       "      <th>Amount</th>\n",
       "      <th>Date</th>\n",
       "      <th>Period</th>\n",
       "    </tr>\n",
       "  </thead>\n",
       "  <tbody>\n",
       "    <tr>\n",
       "      <th>0</th>\n",
       "      <td>3372</td>\n",
       "      <td>Finance</td>\n",
       "      <td>Round-Up</td>\n",
       "      <td>Chase</td>\n",
       "      <td>NaN</td>\n",
       "      <td>-5.57</td>\n",
       "      <td>2024-06-02</td>\n",
       "      <td>2024-06</td>\n",
       "    </tr>\n",
       "  </tbody>\n",
       "</table>\n",
       "</div>"
      ],
      "text/plain": [
       "   Transaction ID Category A Category B Outlet Description  Amount  \\\n",
       "0            3372    Finance   Round-Up  Chase         NaN   -5.57   \n",
       "\n",
       "         Date   Period  \n",
       "0  2024-06-02  2024-06  "
      ]
     },
     "execution_count": 56,
     "metadata": {},
     "output_type": "execute_result"
    }
   ],
   "source": [
    "spend_data.info()\n",
    "spend_data.head(1)"
   ]
  },
  {
   "cell_type": "code",
   "execution_count": 57,
   "metadata": {},
   "outputs": [
    {
     "name": "stderr",
     "output_type": "stream",
     "text": [
      "[2024-07-03 14:24:39] [INFO]  Successfully saved file to /Users/hadid/GitHub/ETL/data/raw_data/spend_transactions.xlsx\n"
     ]
    }
   ],
   "source": [
    "file_manager.save_file(FileDirectory.RAW_DATA_PATH, spend_data, Spend.CLEAN_DATA)"
   ]
  },
  {
   "cell_type": "code",
   "execution_count": null,
   "metadata": {},
   "outputs": [],
   "source": []
  },
  {
   "cell_type": "code",
   "execution_count": 2,
   "metadata": {},
   "outputs": [
    {
     "name": "stderr",
     "output_type": "stream",
     "text": [
      "[2024-07-20 17:27:53 +0100] [INFO] [redis_manager.py] Fetching 'daylio_journal' cache from Redis...\n",
      "[2024-07-20 17:27:53 +0100] [INFO] [redis_manager.py] Cache found, timestamp within 48 hours\n"
     ]
    }
   ],
   "source": [
    "import pandas as pd\n",
    "\n",
    "from constants import Daylio, FileDirectory\n",
    "from utility import redis_manager, s3_manager\n",
    "from utility.clean_data import CleanData\n",
    "from utility.file_manager import FileManager\n",
    "from utility.log_manager import setup_logging\n",
    "\n",
    "logger = setup_logging()\n",
    "\n",
    "cached_data = redis_manager.get_cached_data(Daylio.DATA_KEY)\n",
    "cached_df = pd.DataFrame(cached_data)"
   ]
  },
  {
   "cell_type": "code",
   "execution_count": null,
   "metadata": {},
   "outputs": [],
   "source": []
  }
 ],
 "metadata": {
  "kernelspec": {
   "display_name": "etlenv",
   "language": "python",
   "name": "python3"
  },
  "language_info": {
   "codemirror_mode": {
    "name": "ipython",
    "version": 3
   },
   "file_extension": ".py",
   "mimetype": "text/x-python",
   "name": "python",
   "nbconvert_exporter": "python",
   "pygments_lexer": "ipython3",
   "version": "3.12.3"
  }
 },
 "nbformat": 4,
 "nbformat_minor": 2
}
