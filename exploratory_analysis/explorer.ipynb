{
 "cells": [
  {
   "cell_type": "code",
   "execution_count": 8,
   "metadata": {},
   "outputs": [
    {
     "name": "stdout",
     "output_type": "stream",
     "text": [
      "3\n"
     ]
    }
   ],
   "source": [
    "a = {1, 2, 3}\n",
    "print(len(a))"
   ]
  },
  {
   "cell_type": "code",
   "execution_count": 16,
   "metadata": {},
   "outputs": [],
   "source": [
    "def sample(a, b):\n",
    "    try:\n",
    "        c = a + b\n",
    "        print(c)\n",
    "    except TypeError:\n",
    "        print(\"TypeError\")"
   ]
  },
  {
   "cell_type": "code",
   "execution_count": 17,
   "metadata": {},
   "outputs": [
    {
     "name": "stdout",
     "output_type": "stream",
     "text": [
      "TypeError\n"
     ]
    }
   ],
   "source": [
    "sample(1, \"a\")"
   ]
  },
  {
   "cell_type": "code",
   "execution_count": 10,
   "metadata": {},
   "outputs": [
    {
     "name": "stdout",
     "output_type": "stream",
     "text": [
      "Exception Class: Exception\n",
      "Error Message: \n",
      "Traceback: \n",
      "Cause: None\n",
      "Context: None\n"
     ]
    },
    {
     "name": "stderr",
     "output_type": "stream",
     "text": [
      "  File \"/var/folders/8_/kqty4k697jb9q5s88rqk7zqc0000gn/T/ipykernel_82377/146031208.py\", line 5, in <module>\n",
      "    raise Exception\n"
     ]
    }
   ],
   "source": [
    "import traceback\n",
    "\n",
    "try:\n",
    "    # Some code that raises a generic exception\n",
    "    raise Exception\n",
    "except Exception as e:\n",
    "    print(f\"Exception Class: {type(e).__name__}\")\n",
    "    print(f\"Error Message: {str(e)}\")\n",
    "    print(\"Traceback: \")\n",
    "    traceback.print_tb(e.__traceback__)\n",
    "    print(f\"Cause: {e.__cause__}\")\n",
    "    print(f\"Context: {e.__context__}\")"
   ]
  },
  {
   "cell_type": "code",
   "execution_count": 11,
   "metadata": {},
   "outputs": [
    {
     "name": "stdout",
     "output_type": "stream",
     "text": [
      "Exception Class: HTTPError\n",
      "Error Message: 404 Client Error: Not Found for url: http://example.com/nonexistent\n",
      "Traceback:\n",
      "Request URL: http://example.com/nonexistent\n",
      "Request Method: GET\n",
      "Response Status Code: 404\n",
      "Response Reason: Not Found\n",
      "Response URL: http://example.com/nonexistent\n",
      "Response Headers: {'Content-Encoding': 'gzip', 'Accept-Ranges': 'bytes', 'Age': '368105', 'Cache-Control': 'max-age=604800', 'Content-Type': 'text/html; charset=UTF-8', 'Date': 'Sat, 15 Jun 2024 13:33:34 GMT', 'Expires': 'Sat, 22 Jun 2024 13:33:34 GMT', 'Last-Modified': 'Tue, 11 Jun 2024 07:18:29 GMT', 'Server': 'ECAcc (lac/55DF)', 'Vary': 'Accept-Encoding', 'X-Cache': '404-HIT', 'Content-Length': '648'}\n",
      "Response Text: <!doctype html>\n",
      "<html>\n",
      "<head>\n",
      "    <title>Example Domain</title>\n",
      "\n",
      "    <meta charset=\"utf-8\" />\n",
      "    <meta http-equiv=\"Content-type\" content=\"text/html; charset=utf-8\" />\n",
      "    <meta name=\"viewport\" content=\"width=device-width, initial-scale=1\" />\n",
      "    <style type=\"text/css\">\n",
      "    body {\n",
      "        background-color: #f0f0f2;\n",
      "        margin: 0;\n",
      "        padding: 0;\n",
      "        font-family: -apple-system, system-ui, BlinkMacSystemFont, \"Segoe UI\", \"Open Sans\", \"Helvetica Neue\", Helvetica, Arial, sans-serif;\n",
      "        \n",
      "    }\n",
      "    div {\n",
      "        width: 600px;\n",
      "        margin: 5em auto;\n",
      "        padding: 2em;\n",
      "        background-color: #fdfdff;\n",
      "        border-radius: 0.5em;\n",
      "        box-shadow: 2px 3px 7px 2px rgba(0,0,0,0.02);\n",
      "    }\n",
      "    a:link, a:visited {\n",
      "        color: #38488f;\n",
      "        text-decoration: none;\n",
      "    }\n",
      "    @media (max-width: 700px) {\n",
      "        div {\n",
      "            margin: 0 auto;\n",
      "            width: auto;\n",
      "        }\n",
      "    }\n",
      "    </style>    \n",
      "</head>\n",
      "\n",
      "<body>\n",
      "<div>\n",
      "    <h1>Example Domain</h1>\n",
      "    <p>This domain is for use in illustrative examples in documents. You may use this\n",
      "    domain in literature without prior coordination or asking for permission.</p>\n",
      "    <p><a href=\"https://www.iana.org/domains/example\">More information...</a></p>\n",
      "</div>\n",
      "</body>\n",
      "</html>\n",
      "\n"
     ]
    },
    {
     "name": "stderr",
     "output_type": "stream",
     "text": [
      "  File \"/var/folders/8_/kqty4k697jb9q5s88rqk7zqc0000gn/T/ipykernel_82377/2166532405.py\", line 6, in <module>\n",
      "    response.raise_for_status()\n",
      "  File \"/Users/hadid/GitHub/ETL/etlenv/lib/python3.11/site-packages/requests/models.py\", line 1021, in raise_for_status\n",
      "    raise HTTPError(http_error_msg, response=self)\n"
     ]
    }
   ],
   "source": [
    "import requests\n",
    "\n",
    "try:\n",
    "    # Make a request to a non-existent URL\n",
    "    response = requests.get(\"http://example.com/nonexistent\")\n",
    "    response.raise_for_status()\n",
    "except requests.exceptions.HTTPError as e:\n",
    "    print(f\"Exception Class: {type(e).__name__}\")\n",
    "    print(f\"Error Message: {str(e)}\")\n",
    "    print(\"Traceback:\")\n",
    "    traceback.print_tb(e.__traceback__)\n",
    "    print(f\"Request URL: {e.request.url}\")\n",
    "    print(f\"Request Method: {e.request.method}\")\n",
    "    print(f\"Response Status Code: {e.response.status_code}\")\n",
    "    print(f\"Response Reason: {e.response.reason}\")\n",
    "    print(f\"Response URL: {e.response.url}\")\n",
    "    print(f\"Response Headers: {e.response.headers}\")\n",
    "    print(f\"Response Text: {e.response.text}\")"
   ]
  },
  {
   "cell_type": "code",
   "execution_count": 4,
   "metadata": {},
   "outputs": [
    {
     "ename": "AttributeError",
     "evalue": "'FrameSummary' object has no attribute 'globals'",
     "output_type": "error",
     "traceback": [
      "\u001b[0;31m---------------------------------------------------------------------------\u001b[0m",
      "\u001b[0;31mZeroDivisionError\u001b[0m                         Traceback (most recent call last)",
      "Cell \u001b[0;32mIn[4], line 6\u001b[0m\n\u001b[1;32m      4\u001b[0m \u001b[38;5;28;01mtry\u001b[39;00m:\n\u001b[1;32m      5\u001b[0m     \u001b[38;5;66;03m# Some code that raises an exception\u001b[39;00m\n\u001b[0;32m----> 6\u001b[0m     result \u001b[38;5;241m=\u001b[39m \u001b[38;5;241;43m10\u001b[39;49m\u001b[43m \u001b[49m\u001b[38;5;241;43m/\u001b[39;49m\u001b[43m \u001b[49m\u001b[38;5;241;43m0\u001b[39;49m\n\u001b[1;32m      7\u001b[0m     \u001b[38;5;28mprint\u001b[39m(result)\n",
      "\u001b[0;31mZeroDivisionError\u001b[0m: division by zero",
      "\nDuring handling of the above exception, another exception occurred:\n",
      "\u001b[0;31mAttributeError\u001b[0m                            Traceback (most recent call last)",
      "Cell \u001b[0;32mIn[4], line 17\u001b[0m\n\u001b[1;32m     15\u001b[0m filename, lineno, name, line \u001b[38;5;241m=\u001b[39m last_frame[:\u001b[38;5;241m4\u001b[39m]\n\u001b[1;32m     16\u001b[0m locals_dict \u001b[38;5;241m=\u001b[39m last_frame\u001b[38;5;241m.\u001b[39mlocals\n\u001b[0;32m---> 17\u001b[0m globals_dict \u001b[38;5;241m=\u001b[39m \u001b[43mlast_frame\u001b[49m\u001b[38;5;241;43m.\u001b[39;49m\u001b[38;5;21;43m__getattribute__\u001b[39;49m\u001b[43m(\u001b[49m\u001b[38;5;124;43m\"\u001b[39;49m\u001b[38;5;124;43mglobals\u001b[39;49m\u001b[38;5;124;43m\"\u001b[39;49m\u001b[43m)\u001b[49m\n\u001b[1;32m     18\u001b[0m \u001b[38;5;66;03m# lasti = last_frame.lasti\u001b[39;00m\n\u001b[1;32m     19\u001b[0m \u001b[38;5;66;03m# tb_frame = last_frame.tb_frame\u001b[39;00m\n\u001b[1;32m     20\u001b[0m \u001b[38;5;66;03m# tb_lasti = last_frame.tb_lasti\u001b[39;00m\n\u001b[1;32m     21\u001b[0m \u001b[38;5;66;03m# tb_lineno = last_frame.tb_lineno\u001b[39;00m\n\u001b[1;32m     22\u001b[0m \u001b[38;5;66;03m# tb_next = last_frame.tb_next\u001b[39;00m\n",
      "\u001b[0;31mAttributeError\u001b[0m: 'FrameSummary' object has no attribute 'globals'"
     ]
    }
   ],
   "source": [
    "import traceback\n",
    "\n",
    "\n",
    "try:\n",
    "    # Some code that raises an exception\n",
    "    result = 10 / 0\n",
    "    print(result)\n",
    "\n",
    "except Exception as e:\n",
    "    # Get the traceback object\n",
    "    tb = traceback.extract_tb(e.__traceback__)\n",
    "\n",
    "    # Access specific components of the traceback\n",
    "    last_frame = tb[-1]\n",
    "    filename, lineno, name, line = last_frame[:4]\n",
    "    locals_dict = last_frame.locals\n",
    "    globals_dict = last_frame.__getattribute__(\"globals\")"
   ]
  },
  {
   "cell_type": "code",
   "execution_count": null,
   "metadata": {},
   "outputs": [],
   "source": []
  }
 ],
 "metadata": {
  "kernelspec": {
   "display_name": "etlenv",
   "language": "python",
   "name": "python3"
  },
  "language_info": {
   "codemirror_mode": {
    "name": "ipython",
    "version": 3
   },
   "file_extension": ".py",
   "mimetype": "text/x-python",
   "name": "python",
   "nbconvert_exporter": "python",
   "pygments_lexer": "ipython3",
   "version": "3.11.5"
  }
 },
 "nbformat": 4,
 "nbformat_minor": 2
}
