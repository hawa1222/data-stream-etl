{
 "cells": [
  {
   "cell_type": "code",
   "execution_count": 6,
   "metadata": {},
   "outputs": [],
   "source": [
    "import pandas as pd\n",
    "import requests\n",
    "from IPython.display import display\n",
    "from requests.exceptions import HTTPError, RequestException\n",
    "\n",
    "from config import (\n",
    "    STRAVA_ACCESS_TOKEN,\n",
    "    STRAVA_CLIENT_ID,\n",
    "    STRAVA_CLIENT_SECRET,\n",
    "    STRAVA_REFRESH_TOKEN,\n",
    ")\n",
    "from constants import StravaAPI"
   ]
  },
  {
   "cell_type": "code",
   "execution_count": 7,
   "metadata": {},
   "outputs": [],
   "source": [
    "def test_api_call(url, headers=None, params=None):\n",
    "    try:\n",
    "        response = requests.get(url, headers=headers, params=params)\n",
    "        response.raise_for_status()\n",
    "        return response.json()\n",
    "    except HTTPError as e:\n",
    "        print(f\"HTTP Error occurred: {e}\")\n",
    "        print(f\"Response content: {e.response.content}\")\n",
    "        print(\"\\nException attributes:\")\n",
    "        for attr in dir(e):\n",
    "            if not attr.startswith(\"__\"):\n",
    "                print(f\"{attr}: {getattr(e, attr)}\")\n",
    "    except RequestException as e:\n",
    "        print(f\"Request Exception occurred: {e}\")\n",
    "        print(\"\\nException attributes:\")\n",
    "        for attr in dir(e):\n",
    "            if not attr.startswith(\"__\"):\n",
    "                print(f\"{attr}: {getattr(e, attr)}\")\n",
    "    except Exception as e:\n",
    "        print(f\"An unexpected error occurred: {e}\")\n",
    "        print(\"\\nException attributes:\")\n",
    "        for attr in dir(e):\n",
    "            if not attr.startswith(\"__\"):\n",
    "                print(f\"{attr}: {getattr(e, attr)}\")"
   ]
  },
  {
   "cell_type": "code",
   "execution_count": 8,
   "metadata": {},
   "outputs": [
    {
     "name": "stdout",
     "output_type": "stream",
     "text": [
      "Test 1: Valid API call\n",
      "HTTP Error occurred: 401 Client Error: Unauthorized for url: https://www.strava.com/api/v3/athlete/activities\n",
      "Response content: b'{\"message\":\"Authorization Error\",\"errors\":[{\"resource\":\"Athlete\",\"field\":\"access_token\",\"code\":\"invalid\"}]}'\n",
      "\n",
      "Exception attributes:\n",
      "add_note: <built-in method add_note of HTTPError object at 0x127b12600>\n",
      "args: ('401 Client Error: Unauthorized for url: https://www.strava.com/api/v3/athlete/activities',)\n"
     ]
    },
    {
     "ename": "AttributeError",
     "evalue": "characters_written",
     "output_type": "error",
     "traceback": [
      "\u001b[0;31m---------------------------------------------------------------------------\u001b[0m",
      "\u001b[0;31mHTTPError\u001b[0m                                 Traceback (most recent call last)",
      "Cell \u001b[0;32mIn[7], line 4\u001b[0m, in \u001b[0;36mtest_api_call\u001b[0;34m(url, headers, params)\u001b[0m\n\u001b[1;32m      3\u001b[0m response \u001b[38;5;241m=\u001b[39m requests\u001b[38;5;241m.\u001b[39mget(url, headers\u001b[38;5;241m=\u001b[39mheaders, params\u001b[38;5;241m=\u001b[39mparams)\n\u001b[0;32m----> 4\u001b[0m \u001b[43mresponse\u001b[49m\u001b[38;5;241;43m.\u001b[39;49m\u001b[43mraise_for_status\u001b[49m\u001b[43m(\u001b[49m\u001b[43m)\u001b[49m\n\u001b[1;32m      5\u001b[0m \u001b[38;5;28;01mreturn\u001b[39;00m response\u001b[38;5;241m.\u001b[39mjson()\n",
      "File \u001b[0;32m~/GitHub/ETL/.venv/lib/python3.12/site-packages/requests/models.py:1021\u001b[0m, in \u001b[0;36mResponse.raise_for_status\u001b[0;34m(self)\u001b[0m\n\u001b[1;32m   1020\u001b[0m \u001b[38;5;28;01mif\u001b[39;00m http_error_msg:\n\u001b[0;32m-> 1021\u001b[0m     \u001b[38;5;28;01mraise\u001b[39;00m HTTPError(http_error_msg, response\u001b[38;5;241m=\u001b[39m\u001b[38;5;28mself\u001b[39m)\n",
      "\u001b[0;31mHTTPError\u001b[0m: 401 Client Error: Unauthorized for url: https://www.strava.com/api/v3/athlete/activities",
      "\nDuring handling of the above exception, another exception occurred:\n",
      "\u001b[0;31mAttributeError\u001b[0m                            Traceback (most recent call last)",
      "Cell \u001b[0;32mIn[8], line 4\u001b[0m\n\u001b[1;32m      2\u001b[0m \u001b[38;5;28mprint\u001b[39m(\u001b[38;5;124m\"\u001b[39m\u001b[38;5;124mTest 1: Valid API call\u001b[39m\u001b[38;5;124m\"\u001b[39m)\n\u001b[1;32m      3\u001b[0m headers \u001b[38;5;241m=\u001b[39m {\u001b[38;5;124m\"\u001b[39m\u001b[38;5;124mAuthorization\u001b[39m\u001b[38;5;124m\"\u001b[39m: \u001b[38;5;124mf\u001b[39m\u001b[38;5;124m\"\u001b[39m\u001b[38;5;124mBearer \u001b[39m\u001b[38;5;132;01m{\u001b[39;00mSTRAVA_ACCESS_TOKEN\u001b[38;5;132;01m}\u001b[39;00m\u001b[38;5;124m\"\u001b[39m}\n\u001b[0;32m----> 4\u001b[0m result \u001b[38;5;241m=\u001b[39m \u001b[43mtest_api_call\u001b[49m\u001b[43m(\u001b[49m\u001b[43mStravaAPI\u001b[49m\u001b[38;5;241;43m.\u001b[39;49m\u001b[43mBASE_URL\u001b[49m\u001b[43m,\u001b[49m\u001b[43m \u001b[49m\u001b[43mheaders\u001b[49m\u001b[38;5;241;43m=\u001b[39;49m\u001b[43mheaders\u001b[49m\u001b[43m)\u001b[49m\n\u001b[1;32m      5\u001b[0m \u001b[38;5;28;01mif\u001b[39;00m result:\n\u001b[1;32m      6\u001b[0m     display(pd\u001b[38;5;241m.\u001b[39mDataFrame([result]))\n",
      "Cell \u001b[0;32mIn[7], line 12\u001b[0m, in \u001b[0;36mtest_api_call\u001b[0;34m(url, headers, params)\u001b[0m\n\u001b[1;32m     10\u001b[0m     \u001b[38;5;28;01mfor\u001b[39;00m attr \u001b[38;5;129;01min\u001b[39;00m \u001b[38;5;28mdir\u001b[39m(e):\n\u001b[1;32m     11\u001b[0m         \u001b[38;5;28;01mif\u001b[39;00m \u001b[38;5;129;01mnot\u001b[39;00m attr\u001b[38;5;241m.\u001b[39mstartswith(\u001b[38;5;124m\"\u001b[39m\u001b[38;5;124m__\u001b[39m\u001b[38;5;124m\"\u001b[39m):\n\u001b[0;32m---> 12\u001b[0m             \u001b[38;5;28mprint\u001b[39m(\u001b[38;5;124mf\u001b[39m\u001b[38;5;124m\"\u001b[39m\u001b[38;5;132;01m{\u001b[39;00mattr\u001b[38;5;132;01m}\u001b[39;00m\u001b[38;5;124m: \u001b[39m\u001b[38;5;132;01m{\u001b[39;00m\u001b[38;5;28;43mgetattr\u001b[39;49m\u001b[43m(\u001b[49m\u001b[43me\u001b[49m\u001b[43m,\u001b[49m\u001b[38;5;250;43m \u001b[39;49m\u001b[43mattr\u001b[49m\u001b[43m)\u001b[49m\u001b[38;5;132;01m}\u001b[39;00m\u001b[38;5;124m\"\u001b[39m)\n\u001b[1;32m     13\u001b[0m \u001b[38;5;28;01mexcept\u001b[39;00m RequestException \u001b[38;5;28;01mas\u001b[39;00m e:\n\u001b[1;32m     14\u001b[0m     \u001b[38;5;28mprint\u001b[39m(\u001b[38;5;124mf\u001b[39m\u001b[38;5;124m\"\u001b[39m\u001b[38;5;124mRequest Exception occurred: \u001b[39m\u001b[38;5;132;01m{\u001b[39;00me\u001b[38;5;132;01m}\u001b[39;00m\u001b[38;5;124m\"\u001b[39m)\n",
      "\u001b[0;31mAttributeError\u001b[0m: characters_written"
     ]
    }
   ],
   "source": [
    "# Test 1: Valid API call\n",
    "print(\"Test 1: Valid API call\")\n",
    "headers = {\"Authorization\": f\"Bearer {STRAVA_ACCESS_TOKEN}\"}\n",
    "result = test_api_call(StravaAPI.BASE_URL, headers=headers)\n",
    "if result:\n",
    "    display(pd.DataFrame([result]))"
   ]
  },
  {
   "cell_type": "code",
   "execution_count": null,
   "metadata": {},
   "outputs": [],
   "source": [
    "# Test 2: Invalid access token\n",
    "print(\"\\nTest 2: Invalid access token\")\n",
    "headers = {\"Authorization\": \"Bearer invalid_token\"}\n",
    "test_api_call(f\"{StravaAPI.BASE_URL}/athlete\", headers=headers)"
   ]
  },
  {
   "cell_type": "code",
   "execution_count": null,
   "metadata": {},
   "outputs": [],
   "source": [
    "# Test 3: Invalid endpoint\n",
    "print(\"\\nTest 3: Invalid endpoint\")\n",
    "test_api_call(f\"{StravaAPI.BASE_URL}/invalid_endpoint\", headers=headers)"
   ]
  },
  {
   "cell_type": "code",
   "execution_count": null,
   "metadata": {},
   "outputs": [],
   "source": [
    "# Test 4: Network error (invalid base URL)\n",
    "print(\"\\nTest 4: Network error (invalid base URL)\")\n",
    "test_api_call(\"https://invalid.url.com/api/v3/athlete\", headers=headers)"
   ]
  },
  {
   "cell_type": "code",
   "execution_count": null,
   "metadata": {},
   "outputs": [],
   "source": [
    "# Test 5: Refresh token (this might not raise an error, but let's see the response)\n",
    "print(\"\\nTest 5: Refresh token\")\n",
    "refresh_data = {\n",
    "    \"client_id\": STRAVA_CLIENT_ID,\n",
    "    \"client_secret\": STRAVA_CLIENT_SECRET,\n",
    "    \"refresh_token\": STRAVA_REFRESH_TOKEN,\n",
    "    \"grant_type\": \"refresh_token\",\n",
    "}\n",
    "test_api_call(StravaAPI.TOKEN_URL, params=refresh_data)"
   ]
  }
 ],
 "metadata": {
  "kernelspec": {
   "display_name": "etlenv",
   "language": "python",
   "name": "python3"
  },
  "language_info": {
   "codemirror_mode": {
    "name": "ipython",
    "version": 3
   },
   "file_extension": ".py",
   "mimetype": "text/x-python",
   "name": "python",
   "nbconvert_exporter": "python",
   "pygments_lexer": "ipython3",
   "version": "3.12.3"
  }
 },
 "nbformat": 4,
 "nbformat_minor": 2
}
